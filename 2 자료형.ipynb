{
 "cells": [
  {
   "cell_type": "code",
   "execution_count": 9,
   "id": "11a8cb17",
   "metadata": {},
   "outputs": [
    {
     "name": "stdout",
     "output_type": "stream",
     "text": [
      "오늘의 메뉴는 곱창볶음입니다.\n",
      "오늘의 메뉴는 곱창볶음와 꽈배기입니다.\n",
      "오늘의 메뉴는 곱창볶음입니다.\n",
      "오늘의 메뉴는 꽈배기와 짬뽕입니다.\n",
      "오늘의 메뉴는 짬뽕과 꽈배기입니다.\n",
      "오늘의 메뉴는 꽈배기과 짬뽕입니다.\n"
     ]
    }
   ],
   "source": [
    "lunch_menu1 = \"곱창볶음\"\n",
    "lunch_menu2 = \"꽈배기\"\n",
    "lunch_menu3 = \"짬뽕\"\n",
    "\n",
    "print(\"오늘의 메뉴는 %s입니다.\"%lunch_menu1)\n",
    "print(\"오늘의 메뉴는 %s와 %s입니다.\"%(lunch_menu1,lunch_menu2))\n",
    "print(\"오늘의 메뉴는 {}입니다.\".format(lunch_menu1))\n",
    "print(f\"오늘의 메뉴는 {lunch_menu2}와 {lunch_menu3}입니다.\")\n",
    "print(\"오늘의 메뉴는 {1}과 {0}입니다.\".format(lunch_menu2,lunch_menu3))\n",
    "print(\"오늘의 메뉴는 {0}과 {1}입니다.\".format(lunch_menu2,lunch_menu3))"
   ]
  },
  {
   "cell_type": "markdown",
   "id": "a6e5aa1f",
   "metadata": {},
   "source": [
    "### 변수 x에 100을 대입하고 변수 y에 200을 대입한 뒤, 변수 add에 x와 y의 합을 대입합니다.\n",
    " \n",
    "- 그 후 대입한 변수를 바탕으로 아래 문자를 출력합니다\n",
    "- \"100과 200의 합은 300입니다.\""
   ]
  },
  {
   "cell_type": "code",
   "execution_count": 10,
   "id": "eb2217a5",
   "metadata": {},
   "outputs": [
    {
     "name": "stdout",
     "output_type": "stream",
     "text": [
      "100과 200의 합은 300입니다.\n"
     ]
    }
   ],
   "source": [
    "x = 100\n",
    "y = 200\n",
    "add = x+y\n",
    "print(\"{}과 {}의 합은 {}입니다.\".format(x,y,add))"
   ]
  },
  {
   "cell_type": "code",
   "execution_count": 11,
   "id": "8a52ea46",
   "metadata": {},
   "outputs": [],
   "source": [
    "song = \"tell me tell me tetetete tell me\""
   ]
  },
  {
   "cell_type": "code",
   "execution_count": 12,
   "id": "7f621b98",
   "metadata": {},
   "outputs": [
    {
     "data": {
      "text/plain": [
       "3"
      ]
     },
     "execution_count": 12,
     "metadata": {},
     "output_type": "execute_result"
    }
   ],
   "source": [
    "song.count(\"tell me\")"
   ]
  },
  {
   "cell_type": "code",
   "execution_count": 14,
   "id": "70a36632",
   "metadata": {},
   "outputs": [
    {
     "data": {
      "text/plain": [
       "16"
      ]
     },
     "execution_count": 14,
     "metadata": {},
     "output_type": "execute_result"
    }
   ],
   "source": [
    "song.find(\"tetetete\")"
   ]
  },
  {
   "cell_type": "code",
   "execution_count": 18,
   "id": "72032b71",
   "metadata": {},
   "outputs": [
    {
     "data": {
      "text/plain": [
       "'TELL ME TELL ME TETETETE TELL ME'"
      ]
     },
     "execution_count": 18,
     "metadata": {},
     "output_type": "execute_result"
    }
   ],
   "source": [
    "song.upper()"
   ]
  },
  {
   "cell_type": "code",
   "execution_count": 16,
   "id": "41db42d4",
   "metadata": {},
   "outputs": [
    {
     "data": {
      "text/plain": [
       "'tell me tell me tetetete tell me'"
      ]
     },
     "execution_count": 16,
     "metadata": {},
     "output_type": "execute_result"
    }
   ],
   "source": [
    "song.lower()"
   ]
  },
  {
   "cell_type": "code",
   "execution_count": 23,
   "id": "5c51f802",
   "metadata": {},
   "outputs": [
    {
     "data": {
      "text/plain": [
       "'TELL ME TELL ME TETETETE TELL ME'"
      ]
     },
     "execution_count": 23,
     "metadata": {},
     "output_type": "execute_result"
    }
   ],
   "source": [
    "song"
   ]
  },
  {
   "cell_type": "code",
   "execution_count": 26,
   "id": "45f3c6c4",
   "metadata": {},
   "outputs": [
    {
     "data": {
      "text/plain": [
       "'TELL ME TELL ME TETETETE TELL ME'"
      ]
     },
     "execution_count": 26,
     "metadata": {},
     "output_type": "execute_result"
    }
   ],
   "source": [
    "song = song.upper()\n",
    "song"
   ]
  },
  {
   "cell_type": "code",
   "execution_count": 28,
   "id": "71a3e674",
   "metadata": {},
   "outputs": [
    {
     "data": {
      "text/plain": [
       "'Tell Me Tell Me Tetetete Tell Me'"
      ]
     },
     "execution_count": 28,
     "metadata": {},
     "output_type": "execute_result"
    }
   ],
   "source": [
    "song.title()"
   ]
  },
  {
   "cell_type": "code",
   "execution_count": 29,
   "id": "27ded26a",
   "metadata": {},
   "outputs": [
    {
     "data": {
      "text/plain": [
       "'TELL ME TELL ME TETETETE TELL ME'"
      ]
     },
     "execution_count": 29,
     "metadata": {},
     "output_type": "execute_result"
    }
   ],
   "source": [
    "song.replace(\"t\",\"y\")"
   ]
  },
  {
   "cell_type": "code",
   "execution_count": 34,
   "id": "a73a3fdd",
   "metadata": {},
   "outputs": [
    {
     "data": {
      "text/plain": [
       "'tell me tell me tetetete tell me'"
      ]
     },
     "execution_count": 34,
     "metadata": {},
     "output_type": "execute_result"
    }
   ],
   "source": [
    "song = song.lower()\n",
    "song"
   ]
  },
  {
   "cell_type": "code",
   "execution_count": 36,
   "id": "6ceecbba",
   "metadata": {},
   "outputs": [
    {
     "data": {
      "text/plain": [
       "['tell', 'me', 'tell', 'me', 'tetetete', 'tell', 'me']"
      ]
     },
     "execution_count": 36,
     "metadata": {},
     "output_type": "execute_result"
    }
   ],
   "source": [
    "song.split(\" \")"
   ]
  },
  {
   "cell_type": "code",
   "execution_count": 37,
   "id": "7f1ec13c",
   "metadata": {},
   "outputs": [],
   "source": [
    "sentence= \"나는 밥을 먹었다. 아주 맛이 있었다.\""
   ]
  },
  {
   "cell_type": "code",
   "execution_count": 40,
   "id": "b4241c8c",
   "metadata": {},
   "outputs": [
    {
     "data": {
      "text/plain": [
       "['나는 밥을 먹었다', '아주 맛이 있었다']"
      ]
     },
     "execution_count": 40,
     "metadata": {},
     "output_type": "execute_result"
    }
   ],
   "source": [
    "sentence.split(\". \")"
   ]
  },
  {
   "cell_type": "code",
   "execution_count": 41,
   "id": "1b188231",
   "metadata": {},
   "outputs": [
    {
     "data": {
      "text/plain": [
       "'tell'"
      ]
     },
     "execution_count": 41,
     "metadata": {},
     "output_type": "execute_result"
    }
   ],
   "source": [
    "ah_ryeon = \"        tell      \"\n",
    "ah_ryeon.strip()"
   ]
  },
  {
   "cell_type": "code",
   "execution_count": 42,
   "id": "cb0d30c5",
   "metadata": {},
   "outputs": [
    {
     "data": {
      "text/plain": [
       "'        tell'"
      ]
     },
     "execution_count": 42,
     "metadata": {},
     "output_type": "execute_result"
    }
   ],
   "source": [
    "ah_ryeon.rstrip()"
   ]
  },
  {
   "cell_type": "code",
   "execution_count": 43,
   "id": "9902c96e",
   "metadata": {},
   "outputs": [
    {
     "data": {
      "text/plain": [
       "'tell      '"
      ]
     },
     "execution_count": 43,
     "metadata": {},
     "output_type": "execute_result"
    }
   ],
   "source": [
    "ah_ryeon.lstrip()"
   ]
  },
  {
   "cell_type": "code",
   "execution_count": 45,
   "id": "4e2a67a6",
   "metadata": {},
   "outputs": [
    {
     "data": {
      "text/plain": [
       "'tell'"
      ]
     },
     "execution_count": 45,
     "metadata": {},
     "output_type": "execute_result"
    }
   ],
   "source": [
    "ah_ryeon = \"........tell....\"\n",
    "ah_ryeon.strip(\".\")"
   ]
  },
  {
   "cell_type": "code",
   "execution_count": null,
   "id": "e8f06efa",
   "metadata": {},
   "outputs": [],
   "source": []
  }
 ],
 "metadata": {
  "kernelspec": {
   "display_name": "Python 3 (ipykernel)",
   "language": "python",
   "name": "python3"
  },
  "language_info": {
   "codemirror_mode": {
    "name": "ipython",
    "version": 3
   },
   "file_extension": ".py",
   "mimetype": "text/x-python",
   "name": "python",
   "nbconvert_exporter": "python",
   "pygments_lexer": "ipython3",
   "version": "3.9.12"
  }
 },
 "nbformat": 4,
 "nbformat_minor": 5
}
