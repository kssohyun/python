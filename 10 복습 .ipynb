{
 "cells": [
  {
   "cell_type": "markdown",
   "id": "61e0372f",
   "metadata": {},
   "source": [
    "### 변수, 문자열\n",
    "- 정수형(int)\n",
    "- 실수형(float)\n",
    "- 문자형(str)\n",
    "- 논리형(boolean)"
   ]
  },
  {
   "cell_type": "markdown",
   "id": "309ca707",
   "metadata": {},
   "source": [
    "### 인덱싱과 슬라이싱"
   ]
  },
  {
   "cell_type": "code",
   "execution_count": 1,
   "id": "85b4b712",
   "metadata": {},
   "outputs": [
    {
     "data": {
      "text/plain": [
       "'a'"
      ]
     },
     "execution_count": 1,
     "metadata": {},
     "output_type": "execute_result"
    }
   ],
   "source": [
    "\"apple\"[0]"
   ]
  },
  {
   "cell_type": "code",
   "execution_count": 2,
   "id": "4b2bd795",
   "metadata": {},
   "outputs": [
    {
     "data": {
      "text/plain": [
       "'apple'"
      ]
     },
     "execution_count": 2,
     "metadata": {},
     "output_type": "execute_result"
    }
   ],
   "source": [
    "[\"apple\",\"banana\",\"melon\"][0]"
   ]
  },
  {
   "cell_type": "code",
   "execution_count": 3,
   "id": "5b5f9b3a",
   "metadata": {},
   "outputs": [
    {
     "data": {
      "text/plain": [
       "'a'"
      ]
     },
     "execution_count": 3,
     "metadata": {},
     "output_type": "execute_result"
    }
   ],
   "source": [
    "[\"apple\",\"banana\",\"melon\"][0][0]"
   ]
  },
  {
   "cell_type": "code",
   "execution_count": 4,
   "id": "0fb00409",
   "metadata": {},
   "outputs": [
    {
     "data": {
      "text/plain": [
       "['melon', 'watermelon']"
      ]
     },
     "execution_count": 4,
     "metadata": {},
     "output_type": "execute_result"
    }
   ],
   "source": [
    "[\"appple\", \"banana\", [\"melon\",\"watermelon\"]][2]"
   ]
  },
  {
   "cell_type": "code",
   "execution_count": 5,
   "id": "9ddcd751",
   "metadata": {},
   "outputs": [
    {
     "data": {
      "text/plain": [
       "'watermelon'"
      ]
     },
     "execution_count": 5,
     "metadata": {},
     "output_type": "execute_result"
    }
   ],
   "source": [
    "[\"appple\", \"banana\", [\"melon\",\"watermelon\"]][2][1]"
   ]
  },
  {
   "cell_type": "code",
   "execution_count": 6,
   "id": "e06adb51",
   "metadata": {},
   "outputs": [
    {
     "data": {
      "text/plain": [
       "'w'"
      ]
     },
     "execution_count": 6,
     "metadata": {},
     "output_type": "execute_result"
    }
   ],
   "source": [
    "[\"appple\", \"banana\", [\"melon\",\"watermelon\"]][2][1][0]"
   ]
  },
  {
   "cell_type": "code",
   "execution_count": 8,
   "id": "f75b6def",
   "metadata": {},
   "outputs": [
    {
     "data": {
      "text/plain": [
       "'water'"
      ]
     },
     "execution_count": 8,
     "metadata": {},
     "output_type": "execute_result"
    }
   ],
   "source": [
    "# melon \"o\" 출력\n",
    "fruit = [[\"mango\", \"grape\"],[\"appple\", \"banana\", [\"melon\",\"watermelon\"]]]\n",
    "fruit[1][2][0][3]\n",
    "# water 출력\n",
    "fruit[1][2][1][:5]"
   ]
  },
  {
   "cell_type": "code",
   "execution_count": 10,
   "id": "6f37472e",
   "metadata": {},
   "outputs": [
    {
     "data": {
      "text/plain": [
       "'melon'"
      ]
     },
     "execution_count": 10,
     "metadata": {},
     "output_type": "execute_result"
    }
   ],
   "source": [
    "# [a:b] a이상 b미만\n",
    "# 오른쪽 본인 포함x\n",
    "\"watermelon\"[:5]\n",
    "\"watermelon\"[5:10]\n",
    "\"watermelon\"[-5:]"
   ]
  },
  {
   "cell_type": "code",
   "execution_count": 11,
   "id": "81d1fb2f",
   "metadata": {},
   "outputs": [
    {
     "name": "stdout",
     "output_type": "stream",
     "text": [
      "시장에 가면 망고이 있다.\n",
      "시장에 가면 파인애플과 멜론이 있다.\n"
     ]
    }
   ],
   "source": [
    "fruit1 = \"망고\"\n",
    "fruit2 = \"파인애플\"\n",
    "fruit3 = \"멜론\"\n",
    "\n",
    "print(\"시장에 가면 {}이 있다.\".format(fruit1))\n",
    "print(f\"시장에 가면 {fruit2}과 {fruit3}이 있다.\")"
   ]
  },
  {
   "cell_type": "code",
   "execution_count": 12,
   "id": "c4c880a1",
   "metadata": {},
   "outputs": [
    {
     "name": "stdout",
     "output_type": "stream",
     "text": [
      "There is a mango in the market\n",
      "There is a mango in the market\n"
     ]
    }
   ],
   "source": [
    "fruit = [\"mango\", \"grape\",\"appple\", \"banana\",\"melon\",\"watermelon\"]\n",
    "print(\"There is a {} in the market\".format(fruit[0]))\n",
    "print(f\"There is a {fruit[0]} in the market.\")"
   ]
  },
  {
   "cell_type": "code",
   "execution_count": 14,
   "id": "e4e726a6",
   "metadata": {},
   "outputs": [
    {
     "data": {
      "text/plain": [
       "3"
      ]
     },
     "execution_count": 14,
     "metadata": {},
     "output_type": "execute_result"
    }
   ],
   "source": [
    "sentence = \"There is a mango in the market.\"\n",
    "# a의 개수\n",
    "sentence.count(\"a\")"
   ]
  },
  {
   "cell_type": "code",
   "execution_count": 15,
   "id": "331097d9",
   "metadata": {},
   "outputs": [
    {
     "data": {
      "text/plain": [
       "9"
      ]
     },
     "execution_count": 15,
     "metadata": {},
     "output_type": "execute_result"
    }
   ],
   "source": [
    "sentence.find(\"a\")"
   ]
  },
  {
   "cell_type": "code",
   "execution_count": 18,
   "id": "27da0cb8",
   "metadata": {},
   "outputs": [
    {
     "data": {
      "text/plain": [
       "'there is a mango in the market.'"
      ]
     },
     "execution_count": 18,
     "metadata": {},
     "output_type": "execute_result"
    }
   ],
   "source": [
    "sentence.upper()\n",
    "sentence.lower()"
   ]
  },
  {
   "cell_type": "code",
   "execution_count": 20,
   "id": "e5420afc",
   "metadata": {},
   "outputs": [
    {
     "data": {
      "text/plain": [
       "['There is ', ' m', 'ngo in the m', 'rket.']"
      ]
     },
     "execution_count": 20,
     "metadata": {},
     "output_type": "execute_result"
    }
   ],
   "source": [
    "sentence.split()\n",
    "sentence.split(\"a\")"
   ]
  },
  {
   "cell_type": "code",
   "execution_count": 23,
   "id": "493822ed",
   "metadata": {},
   "outputs": [
    {
     "data": {
      "text/plain": [
       "'There is a mango in the '"
      ]
     },
     "execution_count": 23,
     "metadata": {},
     "output_type": "execute_result"
    }
   ],
   "source": [
    "fruit = [\"mango\", \"grape\",\"appple\", \"banana\",\"melon\",\"watermelon\"]\n",
    "sentence = \"There is a mango in the market\"\n",
    "\n",
    "sentence.replace(\"mango\",\"grape\")\n",
    "sentence.replace(fruit[0],fruit[1])\n",
    "sentence.replace(\"market\",\"\")"
   ]
  },
  {
   "cell_type": "code",
   "execution_count": 24,
   "id": "d5e1b2ab",
   "metadata": {},
   "outputs": [
    {
     "data": {
      "text/plain": [
       "14"
      ]
     },
     "execution_count": 24,
     "metadata": {},
     "output_type": "execute_result"
    }
   ],
   "source": [
    "num = 7\n",
    "num += 7\n",
    "#num = num + 7\n",
    "num"
   ]
  },
  {
   "cell_type": "code",
   "execution_count": 27,
   "id": "47512209",
   "metadata": {},
   "outputs": [
    {
     "name": "stdout",
     "output_type": "stream",
     "text": [
      "14\n",
      "77\n",
      "14\n"
     ]
    }
   ],
   "source": [
    "print(7+7)\n",
    "print(\"7\" + \"7\")\n",
    "print(int(\"7\")+int(\"7\"))"
   ]
  },
  {
   "cell_type": "code",
   "execution_count": 30,
   "id": "10bcf0f6",
   "metadata": {},
   "outputs": [
    {
     "data": {
      "text/plain": [
       "5"
      ]
     },
     "execution_count": 30,
     "metadata": {},
     "output_type": "execute_result"
    }
   ],
   "source": [
    "# len = 인덱스 개수\n",
    "fruit = [\"mango\", \"grape\",\"appple\", \"banana\",\"melon\",\"watermelon\"]\n",
    "len(fruit)\n",
    "len(fruit[0])"
   ]
  },
  {
   "cell_type": "markdown",
   "id": "331f947d",
   "metadata": {},
   "source": [
    "### 조건문"
   ]
  },
  {
   "cell_type": "code",
   "execution_count": null,
   "id": "95843cc8",
   "metadata": {},
   "outputs": [],
   "source": [
    "if 명제:\n",
    "    명제가 참일 때 실행하는 코드\n",
    "else:\n",
    "    명제가 거짓일 때 실행하는 코드"
   ]
  },
  {
   "cell_type": "code",
   "execution_count": 31,
   "id": "8786b064",
   "metadata": {},
   "outputs": [
    {
     "name": "stdout",
     "output_type": "stream",
     "text": [
      "홀수입니다!\n"
     ]
    }
   ],
   "source": [
    "sutja = 3\n",
    "\n",
    "if sutja%2 == 0:\n",
    "    print(\"짝수입니다!\")\n",
    "else:\n",
    "    print(\"홀수입니다!\")"
   ]
  },
  {
   "cell_type": "code",
   "execution_count": 34,
   "id": "5abb8318",
   "metadata": {},
   "outputs": [
    {
     "data": {
      "text/plain": [
       "True"
      ]
     },
     "execution_count": 34,
     "metadata": {},
     "output_type": "execute_result"
    }
   ],
   "source": [
    "fruit = [\"mango\", \"grape\",\"appple\", \"banana\",\"melon\",\"watermelon\"]\n",
    "\"mango\" in fruit\n",
    "# in 뒤는 인덱싱이 가능한 것\n",
    "\"m\" in \"mango\"\n",
    "\"man\" in \"mango\""
   ]
  },
  {
   "cell_type": "code",
   "execution_count": 35,
   "id": "6ca7d2f3",
   "metadata": {},
   "outputs": [
    {
     "data": {
      "text/plain": [
       "False"
      ]
     },
     "execution_count": 35,
     "metadata": {},
     "output_type": "execute_result"
    }
   ],
   "source": [
    "[\"mango\", \"grape\"] in fruit"
   ]
  },
  {
   "cell_type": "code",
   "execution_count": 37,
   "id": "44337545",
   "metadata": {},
   "outputs": [
    {
     "data": {
      "text/plain": [
       "True"
      ]
     },
     "execution_count": 37,
     "metadata": {},
     "output_type": "execute_result"
    }
   ],
   "source": [
    "# 중의적 표현 x\n",
    "\"mango\" and \"grape\" in fruit\n",
    "(\"mango\" in fruit) and (\"grape\" in fruit)\n",
    "\"mango\" or \"grape\" in fruit\n",
    "(\"mango\" in fruit) or (\"grape\" in fruit)"
   ]
  },
  {
   "cell_type": "code",
   "execution_count": 41,
   "id": "97e0f4ca",
   "metadata": {},
   "outputs": [],
   "source": [
    "lyrics = \"\"\"너도 날 좋아할 줄은 몰랐어\n",
    "어쩌면 좋아 너무나 좋아\n",
    "꿈만 같아서 나 내 자신을\n",
    "자꾸 꼬집어봐 너무나 좋아\n",
    "니가 날 혹시 안 좋아할까봐\n",
    "혼자 얼마나 애태운지 몰라\n",
    "그런데 니가 날 사랑한다니\n",
    "어머나 다시 한번 말해봐\n",
    "Tell me tell me\n",
    "Tell tell tell tell tell tell me\n",
    "나를 사랑한다고 날 기다려왔다고\n",
    "Tell me tell me\n",
    "Tell tell tell tell tell tell me\n",
    "내가 필요하다 말해 말해줘요\n",
    "Tell me tell me\n",
    "Tell tell tell tell tell tell me\n",
    "자꾸만 듣고 싶어 계속 내게 말해줘\n",
    "Tell me tell me\n",
    "Tell tell tell tell tell tell me\n",
    "꿈이 아니라고 말해 말해줘요\n",
    "어쩜 내 가슴이 이렇게 뛰니\n",
    "가슴이 정말 터질것 같아\n",
    "니가 날 볼 때면 전기에\n",
    "감전된 사람처럼 전기가 올라\n",
    "얼마나 오래 기다린지 몰라\n",
    "얼마나 오래 꿈 꿨는지 몰라\n",
    "그런데 니가 날 사랑한다니\n",
    "어머나 다시 한번 말해봐\n",
    "Tell me tell me\n",
    "Tell tell tell tell tell tell me\n",
    "나를 사랑한다고 날 기다려왔다고\n",
    "Tell me tell me\n",
    "Tell tell tell tell tell tell me\n",
    "내가 필요하다 말해 말해줘요\n",
    "Tell me tell me\n",
    "Tell tell tell tell tell tell me\n",
    "자꾸만 듣고 싶어\n",
    "계속 내게 말해줘\n",
    "Tell me tell me\n",
    "Tell tell tell tell tell tell me\n",
    "꿈이 아니라고 말해 말해줘요\n",
    "원더걸스\n",
    "Tell me tell me tell me you\n",
    "Want me want me want me too\n",
    "Tell me tell me tell me you\n",
    "Love me too love me too\n",
    "얼마나 오래 기다린지 몰라\n",
    "얼마나 오래 꿈 꿨는지 몰라\n",
    "그런데 니가 날 사랑한다니\n",
    "어머나 다시 한번 말해봐\n",
    "Tell me tell me\n",
    "Tell tell tell tell tell tell me\n",
    "나를 사랑한다고 날 기다려왔다고\n",
    "Tell me tell me\n",
    "Tell tell tell tell tell tell me\n",
    "내가 필요하다 말해 말해줘요\n",
    "Tell me tell me\n",
    "Tell tell tell tell tell tell me\n",
    "자꾸만 듣고 싶어 계속 내게 말해줘\n",
    "Tell me tell me\n",
    "Tell tell tell tell tell tell me\n",
    "꿈이 아니라고 말해 말해줘요\n",
    "Tell me tell me\n",
    "Tell tell tell tell tell tell me\n",
    "Tell tell tell tell tell tell me\n",
    "\"\"\""
   ]
  },
  {
   "cell_type": "code",
   "execution_count": 39,
   "id": "25f6be45",
   "metadata": {},
   "outputs": [
    {
     "name": "stdout",
     "output_type": "stream",
     "text": [
      "제목이 가사에 포함되어 있다\n"
     ]
    }
   ],
   "source": [
    "if \"tell me\" in lyrics:\n",
    "    print(\"제목이 가사에 포함되어 있다\")\n",
    "else:\n",
    "    print(\"제목이 가사에 포함되어 있지 않습니다\")"
   ]
  },
  {
   "cell_type": "code",
   "execution_count": 40,
   "id": "5cc04f89",
   "metadata": {},
   "outputs": [
    {
     "data": {
      "text/plain": [
       "'너도 날 좋아할 줄은 몰랐어 어쩌면 좋아 너무나 좋아 꿈만 같아서 나 내 자신을 자꾸 꼬집어봐 너무나 좋아 니가 날 혹시 안 좋아할까봐 혼자 얼마나 애태운지 몰라 그런데 니가 날 사랑한다니 어머나 다시 한번 말해봐   tell tell tell tell tell  나를 사랑한다고 날 기다려왔다고   tell tell tell tell tell  내가 필요하다 말해 말해줘요   tell tell tell tell tell  자꾸만 듣고 싶어 계속 내게 말해줘   tell tell tell tell tell  꿈이 아니라고 말해 말해줘요 어쩜 내 가슴이 이렇게 뛰니 가슴이 정말 터질것 같아 니가 날 볼 때면 전기에 감전된 사람처럼 전기가 올라 얼마나 오래 기다린지 몰라 얼마나 오래 꿈 꿨는지 몰라 그런데 니가 날 사랑한다니 어머나 다시 한번 말해봐   tell tell tell tell tell  나를 사랑한다고 날 기다려왔다고   tell tell tell tell tell  내가 필요하다 말해 말해줘요   tell tell tell tell tell  자꾸만 듣고 싶어 계속 내게 말해줘   tell tell tell tell tell  꿈이 아니라고 말해 말해줘요 원더걸스    you want me want me want me too    you love me too love me too 얼마나 오래 기다린지 몰라 얼마나 오래 꿈 꿨는지 몰라 그런데 니가 날 사랑한다니 어머나 다시 한번 말해봐   tell tell tell tell tell  나를 사랑한다고 날 기다려왔다고   tell tell tell tell tell  내가 필요하다 말해 말해줘요   tell tell tell tell tell  자꾸만 듣고 싶어 계속 내게 말해줘   tell tell tell tell tell  꿈이 아니라고 말해 말해줘요   tell tell tell tell tell  tell tell tell tell tell  '"
      ]
     },
     "execution_count": 40,
     "metadata": {},
     "output_type": "execute_result"
    }
   ],
   "source": [
    "# \\ = 줄 바꿈\n",
    "# tell me 지우기\n",
    "\n",
    "lyrics = lyrics.replace(\"\\n\",\" \")\n",
    "lyrics\n",
    "lyrics = lyrics.lower()\n",
    "lyrics = lyrics.replace(\"tell me\",\"\")\n",
    "lyrics"
   ]
  },
  {
   "cell_type": "code",
   "execution_count": 42,
   "id": "6801d39b",
   "metadata": {},
   "outputs": [
    {
     "data": {
      "text/plain": [
       "'너도 날 좋아할 줄은 몰랐어 어쩌면 좋아 너무나 좋아 꿈만 같아서 나 내 자신을 자꾸 꼬집어봐 너무나 좋아 니가 날 혹시 안 좋아할까봐 혼자 얼마나 애태운지 몰라 그런데 니가 날 사랑한다니 어머나 다시 한번 말해봐 @@@@@@@ @@@@@@@ tell tell tell tell tell @@@@@@@ 나를 사랑한다고 날 기다려왔다고 @@@@@@@ @@@@@@@ tell tell tell tell tell @@@@@@@ 내가 필요하다 말해 말해줘요 @@@@@@@ @@@@@@@ tell tell tell tell tell @@@@@@@ 자꾸만 듣고 싶어 계속 내게 말해줘 @@@@@@@ @@@@@@@ tell tell tell tell tell @@@@@@@ 꿈이 아니라고 말해 말해줘요 어쩜 내 가슴이 이렇게 뛰니 가슴이 정말 터질것 같아 니가 날 볼 때면 전기에 감전된 사람처럼 전기가 올라 얼마나 오래 기다린지 몰라 얼마나 오래 꿈 꿨는지 몰라 그런데 니가 날 사랑한다니 어머나 다시 한번 말해봐 @@@@@@@ @@@@@@@ tell tell tell tell tell @@@@@@@ 나를 사랑한다고 날 기다려왔다고 @@@@@@@ @@@@@@@ tell tell tell tell tell @@@@@@@ 내가 필요하다 말해 말해줘요 @@@@@@@ @@@@@@@ tell tell tell tell tell @@@@@@@ 자꾸만 듣고 싶어 계속 내게 말해줘 @@@@@@@ @@@@@@@ tell tell tell tell tell @@@@@@@ 꿈이 아니라고 말해 말해줘요 원더걸스 @@@@@@@ @@@@@@@ @@@@@@@ you want me want me want me too @@@@@@@ @@@@@@@ @@@@@@@ you love me too love me too 얼마나 오래 기다린지 몰라 얼마나 오래 꿈 꿨는지 몰라 그런데 니가 날 사랑한다니 어머나 다시 한번 말해봐 @@@@@@@ @@@@@@@ tell tell tell tell tell @@@@@@@ 나를 사랑한다고 날 기다려왔다고 @@@@@@@ @@@@@@@ tell tell tell tell tell @@@@@@@ 내가 필요하다 말해 말해줘요 @@@@@@@ @@@@@@@ tell tell tell tell tell @@@@@@@ 자꾸만 듣고 싶어 계속 내게 말해줘 @@@@@@@ @@@@@@@ tell tell tell tell tell @@@@@@@ 꿈이 아니라고 말해 말해줘요 @@@@@@@ @@@@@@@ tell tell tell tell tell @@@@@@@ tell tell tell tell tell @@@@@@@ '"
      ]
     },
     "execution_count": 42,
     "metadata": {},
     "output_type": "execute_result"
    }
   ],
   "source": [
    "# 가리는 경우 tell me -> @@@@@@@\n",
    "lyrics = lyrics.replace(\"\\n\",\" \")\n",
    "lyrics = lyrics.lower()\n",
    "lyrics = lyrics.replace(\"tell me\",\"@@@@@@@\")\n",
    "lyrics"
   ]
  },
  {
   "cell_type": "code",
   "execution_count": 43,
   "id": "0b695902",
   "metadata": {},
   "outputs": [
    {
     "data": {
      "text/plain": [
       "'너도 날 좋아할 줄은 몰랐어 어쩌면 좋아 너무나 좋아 꿈만 같아서 나 내 자신을 자꾸 꼬집어봐 너무나 좋아 니가 날 혹시 안 좋아할까봐 혼자 얼마나 애태운지 몰라 그런데 니가 날 사랑한다니 어머나 다시 한번 말해봐 @@@@@@@ @@@@@@@ tell tell tell tell tell @@@@@@@ 나를 사랑한다고 날 기다려왔다고 @@@@@@@ @@@@@@@ tell tell tell tell tell @@@@@@@ 내가 필요하다 말해 말해줘요 @@@@@@@ @@@@@@@ tell tell tell tell tell @@@@@@@ 자꾸만 듣고 싶어 계속 내게 말해줘 @@@@@@@ @@@@@@@ tell tell tell tell tell @@@@@@@ 꿈이 아니라고 말해 말해줘요 어쩜 내 가슴이 이렇게 뛰니 가슴이 정말 터질것 같아 니가 날 볼 때면 전기에 감전된 사람처럼 전기가 올라 얼마나 오래 기다린지 몰라 얼마나 오래 꿈 꿨는지 몰라 그런데 니가 날 사랑한다니 어머나 다시 한번 말해봐 @@@@@@@ @@@@@@@ tell tell tell tell tell @@@@@@@ 나를 사랑한다고 날 기다려왔다고 @@@@@@@ @@@@@@@ tell tell tell tell tell @@@@@@@ 내가 필요하다 말해 말해줘요 @@@@@@@ @@@@@@@ tell tell tell tell tell @@@@@@@ 자꾸만 듣고 싶어 계속 내게 말해줘 @@@@@@@ @@@@@@@ tell tell tell tell tell @@@@@@@ 꿈이 아니라고 말해 말해줘요 원더걸스 @@@@@@@ @@@@@@@ @@@@@@@ you want me want me want me too @@@@@@@ @@@@@@@ @@@@@@@ you love me too love me too 얼마나 오래 기다린지 몰라 얼마나 오래 꿈 꿨는지 몰라 그런데 니가 날 사랑한다니 어머나 다시 한번 말해봐 @@@@@@@ @@@@@@@ tell tell tell tell tell @@@@@@@ 나를 사랑한다고 날 기다려왔다고 @@@@@@@ @@@@@@@ tell tell tell tell tell @@@@@@@ 내가 필요하다 말해 말해줘요 @@@@@@@ @@@@@@@ tell tell tell tell tell @@@@@@@ 자꾸만 듣고 싶어 계속 내게 말해줘 @@@@@@@ @@@@@@@ tell tell tell tell tell @@@@@@@ 꿈이 아니라고 말해 말해줘요 @@@@@@@ @@@@@@@ tell tell tell tell tell @@@@@@@ tell tell tell tell tell @@@@@@@'"
      ]
     },
     "execution_count": 43,
     "metadata": {},
     "output_type": "execute_result"
    }
   ],
   "source": [
    "lyrics = lyrics.replace(\"  \",\" \")\n",
    "lyrics[:-1]"
   ]
  },
  {
   "cell_type": "markdown",
   "id": "d2586c83",
   "metadata": {},
   "source": [
    "## 리스트, 튜플\n",
    "- 리스트 데이터 조작o (리스트는 할당 x, 문자열은 할당 o), 튜플 데이터 조작 x"
   ]
  },
  {
   "cell_type": "markdown",
   "id": "0a591a02",
   "metadata": {},
   "source": [
    "### 데이터 조작\n",
    "- 문자열 : 덧셈연산\n",
    "- 리스트 : append, insert"
   ]
  },
  {
   "cell_type": "code",
   "execution_count": 44,
   "id": "bd304c6b",
   "metadata": {},
   "outputs": [
    {
     "data": {
      "text/plain": [
       "'짜장면, 짬뽕, 탕수육, 군만두'"
      ]
     },
     "execution_count": 44,
     "metadata": {},
     "output_type": "execute_result"
    }
   ],
   "source": [
    "menu = \"짜장면, 짬뽕, 탕수육\"\n",
    "menu = menu + \", 군만두\"\n",
    "menu"
   ]
  },
  {
   "cell_type": "code",
   "execution_count": 45,
   "id": "2381e0b9",
   "metadata": {},
   "outputs": [
    {
     "data": {
      "text/plain": [
       "['짜장면', '짬뽕', '탕수육', '군만두']"
      ]
     },
     "execution_count": 45,
     "metadata": {},
     "output_type": "execute_result"
    }
   ],
   "source": [
    "# 뒤에 추가\n",
    "menu = [\"짜장면\", \"짬뽕\", \"탕수육\"]\n",
    "menu.append(\"군만두\")\n",
    "menu"
   ]
  },
  {
   "cell_type": "code",
   "execution_count": 46,
   "id": "5eaf21f8",
   "metadata": {},
   "outputs": [
    {
     "data": {
      "text/plain": [
       "['짜장면', '팔보채', '짬뽕', '탕수육', '군만두']"
      ]
     },
     "execution_count": 46,
     "metadata": {},
     "output_type": "execute_result"
    }
   ],
   "source": [
    "# 위치 지정 추가\n",
    "menu.insert(1, \"팔보채\")\n",
    "menu"
   ]
  },
  {
   "cell_type": "markdown",
   "id": "e72b1210",
   "metadata": {},
   "source": [
    "### 데이터 제거\n",
    "- 문자열 :replace\n",
    "- 리스트 : del, remove, pop"
   ]
  },
  {
   "cell_type": "code",
   "execution_count": 47,
   "id": "6d6ab4e2",
   "metadata": {},
   "outputs": [
    {
     "data": {
      "text/plain": [
       "'짜장면, 짬뽕, 탕수육'"
      ]
     },
     "execution_count": 47,
     "metadata": {},
     "output_type": "execute_result"
    }
   ],
   "source": [
    "menu = \"짜장면, 짬뽕, 탕수육, 군만두\"\n",
    "menu = menu.replace(\", 군만두\",\"\")\n",
    "menu"
   ]
  },
  {
   "cell_type": "code",
   "execution_count": 48,
   "id": "5ddac510",
   "metadata": {},
   "outputs": [
    {
     "data": {
      "text/plain": [
       "['짜장면', '팔보채', '짬뽕', '탕수육']"
      ]
     },
     "execution_count": 48,
     "metadata": {},
     "output_type": "execute_result"
    }
   ],
   "source": [
    "menu = [\"짜장면\", \"팔보채\", \"짬뽕\", \"탕수육\", \"군만두\"]\n",
    "del menu[4]\n",
    "menu"
   ]
  },
  {
   "cell_type": "code",
   "execution_count": 49,
   "id": "0338a056",
   "metadata": {},
   "outputs": [
    {
     "data": {
      "text/plain": [
       "['짜장면', '짬뽕', '탕수육']"
      ]
     },
     "execution_count": 49,
     "metadata": {},
     "output_type": "execute_result"
    }
   ],
   "source": [
    "menu.remove(\"팔보채\")\n",
    "menu"
   ]
  },
  {
   "cell_type": "code",
   "execution_count": 50,
   "id": "4fcf4ea5",
   "metadata": {},
   "outputs": [
    {
     "data": {
      "text/plain": [
       "['짜장면', '짬뽕']"
      ]
     },
     "execution_count": 50,
     "metadata": {},
     "output_type": "execute_result"
    }
   ],
   "source": [
    "# 마지막 지우기\n",
    "menu.pop()\n",
    "menu"
   ]
  },
  {
   "cell_type": "markdown",
   "id": "4e618e79",
   "metadata": {},
   "source": [
    "### 데이터 교체\n",
    "- 문자열 : replace\n",
    "- 리스트 : 딱히 함수 x"
   ]
  },
  {
   "cell_type": "code",
   "execution_count": 51,
   "id": "f751ef64",
   "metadata": {},
   "outputs": [
    {
     "data": {
      "text/plain": [
       "'짜장면, 짬뽕, 탕수육, 팔보채'"
      ]
     },
     "execution_count": 51,
     "metadata": {},
     "output_type": "execute_result"
    }
   ],
   "source": [
    "menu = \"짜장면, 짬뽕, 탕수육, 군만두\"\n",
    "menu = menu.replace(\"군만두\",\"팔보채\")\n",
    "menu"
   ]
  },
  {
   "cell_type": "code",
   "execution_count": 52,
   "id": "9fa8099f",
   "metadata": {},
   "outputs": [
    {
     "data": {
      "text/plain": [
       "['짜장면', '유산슬', '짬뽕', '탕수육', '군만두']"
      ]
     },
     "execution_count": 52,
     "metadata": {},
     "output_type": "execute_result"
    }
   ],
   "source": [
    "menu = ['짜장면', '팔보채', '짬뽕', '탕수육', '군만두']\n",
    "menu[1] = \"유산슬\"\n",
    "menu"
   ]
  },
  {
   "cell_type": "code",
   "execution_count": 53,
   "id": "4dc3e16b",
   "metadata": {},
   "outputs": [
    {
     "data": {
      "text/plain": [
       "[['mango', 'grape'], ['pineapple', 'banana', ['melon', 'watermelon']]]"
      ]
     },
     "execution_count": 53,
     "metadata": {},
     "output_type": "execute_result"
    }
   ],
   "source": [
    "# apple -> pineapple\n",
    "fruit = [[\"mango\", \"grape\"],[\"appple\", \"banana\", [\"melon\",\"watermelon\"]]]\n",
    "fruit[1][0] = \"pineapple\"\n",
    "fruit"
   ]
  },
  {
   "cell_type": "markdown",
   "id": "28916d3e",
   "metadata": {},
   "source": [
    "### 반복문\n",
    "- while 명제(멈추는 거의 반대) : 명제가 참인 한 실행되는 코드"
   ]
  },
  {
   "cell_type": "markdown",
   "id": "89ffbe1f",
   "metadata": {},
   "source": [
    "### 무한루프를 피하는 방법\n",
    "1. 특정 조건에서 while문에 걸려 있는 명제가 거짓이 되도록 설계한다.\n",
    "2. break를 사용한다."
   ]
  },
  {
   "cell_type": "code",
   "execution_count": 54,
   "id": "bebf6b14",
   "metadata": {},
   "outputs": [
    {
     "name": "stdout",
     "output_type": "stream",
     "text": [
      "0\n",
      "1\n",
      "2\n"
     ]
    }
   ],
   "source": [
    "n = 0\n",
    "while n <3:\n",
    "    print(n)\n",
    "    n = n+1"
   ]
  },
  {
   "cell_type": "code",
   "execution_count": 56,
   "id": "1ffc51fb",
   "metadata": {},
   "outputs": [
    {
     "name": "stdout",
     "output_type": "stream",
     "text": [
      "0\n",
      "1\n",
      "2\n"
     ]
    }
   ],
   "source": [
    "n = 0\n",
    "while True:\n",
    "    print(n)\n",
    "    n = n+1\n",
    "    if n >= 3:\n",
    "        break\n",
    "    else:\n",
    "        pass"
   ]
  },
  {
   "cell_type": "markdown",
   "id": "ed1b8fe2",
   "metadata": {},
   "source": [
    "### 1000이 넘는 최초의 43의 배수를 찾고 싶습니다."
   ]
  },
  {
   "cell_type": "code",
   "execution_count": 57,
   "id": "579eaf5f",
   "metadata": {},
   "outputs": [
    {
     "name": "stdout",
     "output_type": "stream",
     "text": [
      "1032\n"
     ]
    }
   ],
   "source": [
    "n = 1000\n",
    "while n%43 != 0:\n",
    "    n = n+1\n",
    "print(n)"
   ]
  },
  {
   "cell_type": "code",
   "execution_count": 58,
   "id": "a70de990",
   "metadata": {},
   "outputs": [
    {
     "name": "stdout",
     "output_type": "stream",
     "text": [
      "1032\n"
     ]
    }
   ],
   "source": [
    "n = 1000\n",
    "while True:\n",
    "    n = n+1\n",
    "    if n%43 == 0:\n",
    "        print(n)\n",
    "        break\n",
    "    else:\n",
    "        pass"
   ]
  },
  {
   "cell_type": "markdown",
   "id": "c1acbae3",
   "metadata": {},
   "source": [
    "### 10000이 넘는 수 중에서, 가장 작은 43과 67의 공배수를 구해주세요"
   ]
  },
  {
   "cell_type": "code",
   "execution_count": 62,
   "id": "52406a96",
   "metadata": {},
   "outputs": [
    {
     "name": "stdout",
     "output_type": "stream",
     "text": [
      "11524\n"
     ]
    }
   ],
   "source": [
    "n = 10000\n",
    "while (n%43 != 0) or (n%67 != 0):\n",
    "    n = n+1\n",
    "print(n)"
   ]
  },
  {
   "cell_type": "code",
   "execution_count": 63,
   "id": "4f75f696",
   "metadata": {},
   "outputs": [
    {
     "name": "stdout",
     "output_type": "stream",
     "text": [
      "11524\n"
     ]
    }
   ],
   "source": [
    "n = 10000\n",
    "while True:\n",
    "    n = n+1\n",
    "    if (n%43 == 0) and (n%67 == 0):\n",
    "        print(n)\n",
    "        break\n",
    "    else:\n",
    "        pass"
   ]
  },
  {
   "cell_type": "code",
   "execution_count": null,
   "id": "5f5f0d25",
   "metadata": {},
   "outputs": [],
   "source": [
    "# for문\n",
    "\n",
    "- for 변수 in 순서가 있는 자료형:\n",
    "    코드"
   ]
  },
  {
   "cell_type": "code",
   "execution_count": 65,
   "id": "177e64e9",
   "metadata": {},
   "outputs": [
    {
     "name": "stdout",
     "output_type": "stream",
     "text": [
      "1\n",
      "4\n",
      "9\n",
      "16\n"
     ]
    }
   ],
   "source": [
    "for i in [1,2,3,4]:\n",
    "    print(i**2)"
   ]
  },
  {
   "cell_type": "markdown",
   "id": "3a27dc0e",
   "metadata": {},
   "source": [
    "### 3단뽑기\n",
    "\n",
    "- 3 x 1 = 3\n",
    "- 3 x 2 = 6\n",
    "- ....\n",
    "- 3 x 9 = 27"
   ]
  },
  {
   "cell_type": "code",
   "execution_count": 67,
   "id": "5f5afd99",
   "metadata": {},
   "outputs": [
    {
     "name": "stdout",
     "output_type": "stream",
     "text": [
      "3 x 1 = 3\n",
      "3 x 2 = 6\n",
      "3 x 3 = 9\n",
      "3 x 4 = 12\n",
      "3 x 5 = 15\n",
      "3 x 6 = 18\n",
      "3 x 7 = 21\n",
      "3 x 8 = 24\n",
      "3 x 9 = 27\n"
     ]
    }
   ],
   "source": [
    "for i in range(1,10):\n",
    "    result = 3 * i\n",
    "    print(f\"3 x {i} = {result}\")"
   ]
  },
  {
   "cell_type": "code",
   "execution_count": 70,
   "id": "9946435e",
   "metadata": {},
   "outputs": [
    {
     "data": {
      "text/plain": [
       "[1, 2, 3, 4, 5, 6, 7, 8, 9]"
      ]
     },
     "execution_count": 70,
     "metadata": {},
     "output_type": "execute_result"
    }
   ],
   "source": [
    "list(range(10))\n",
    "# range(10) = 10번, 0~9, 길이가 10\n",
    "list(range(1,10))"
   ]
  },
  {
   "cell_type": "code",
   "execution_count": 75,
   "id": "bd85b439",
   "metadata": {},
   "outputs": [
    {
     "name": "stdout",
     "output_type": "stream",
     "text": [
      "3\n"
     ]
    }
   ],
   "source": [
    "n = 0\n",
    "a = [1,2,3,4,5,6,7]\n",
    "b = [2,4,3,6,5,3,7]\n",
    "for i in range(len(a)):\n",
    "    if a[i] == b[i]:\n",
    "        n = n+1\n",
    "    else:\n",
    "        pass\n",
    "print(n)"
   ]
  },
  {
   "cell_type": "markdown",
   "id": "1508d7fd",
   "metadata": {},
   "source": [
    "### 구구단 뽑기!\n",
    "\n",
    "- 1 x 1 = 1\n",
    "- 1 x 2 = 2\n",
    "- ...\n",
    "- 9 x 8 = 72\n",
    "- 9 x 9 = 81\n"
   ]
  },
  {
   "cell_type": "code",
   "execution_count": 81,
   "id": "d33a03ac",
   "metadata": {},
   "outputs": [
    {
     "name": "stdout",
     "output_type": "stream",
     "text": [
      "\n",
      "1단 시작!\n",
      "1 x 1 = 1\n",
      "1 x 2 = 2\n",
      "1 x 3 = 3\n",
      "1 x 4 = 4\n",
      "1 x 5 = 5\n",
      "1 x 6 = 6\n",
      "1 x 7 = 7\n",
      "1 x 8 = 8\n",
      "1 x 9 = 9\n",
      "\n",
      "2단 시작!\n",
      "2 x 1 = 2\n",
      "2 x 2 = 4\n",
      "2 x 3 = 6\n",
      "2 x 4 = 8\n",
      "2 x 5 = 10\n",
      "2 x 6 = 12\n",
      "2 x 7 = 14\n",
      "2 x 8 = 16\n",
      "2 x 9 = 18\n",
      "\n",
      "3단 시작!\n",
      "3 x 1 = 3\n",
      "3 x 2 = 6\n",
      "3 x 3 = 9\n",
      "3 x 4 = 12\n",
      "3 x 5 = 15\n",
      "3 x 6 = 18\n",
      "3 x 7 = 21\n",
      "3 x 8 = 24\n",
      "3 x 9 = 27\n",
      "\n",
      "4단 시작!\n",
      "4 x 1 = 4\n",
      "4 x 2 = 8\n",
      "4 x 3 = 12\n",
      "4 x 4 = 16\n",
      "4 x 5 = 20\n",
      "4 x 6 = 24\n",
      "4 x 7 = 28\n",
      "4 x 8 = 32\n",
      "4 x 9 = 36\n",
      "\n",
      "5단 시작!\n",
      "5 x 1 = 5\n",
      "5 x 2 = 10\n",
      "5 x 3 = 15\n",
      "5 x 4 = 20\n",
      "5 x 5 = 25\n",
      "5 x 6 = 30\n",
      "5 x 7 = 35\n",
      "5 x 8 = 40\n",
      "5 x 9 = 45\n",
      "\n",
      "6단 시작!\n",
      "6 x 1 = 6\n",
      "6 x 2 = 12\n",
      "6 x 3 = 18\n",
      "6 x 4 = 24\n",
      "6 x 5 = 30\n",
      "6 x 6 = 36\n",
      "6 x 7 = 42\n",
      "6 x 8 = 48\n",
      "6 x 9 = 54\n",
      "\n",
      "7단 시작!\n",
      "7 x 1 = 7\n",
      "7 x 2 = 14\n",
      "7 x 3 = 21\n",
      "7 x 4 = 28\n",
      "7 x 5 = 35\n",
      "7 x 6 = 42\n",
      "7 x 7 = 49\n",
      "7 x 8 = 56\n",
      "7 x 9 = 63\n",
      "\n",
      "8단 시작!\n",
      "8 x 1 = 8\n",
      "8 x 2 = 16\n",
      "8 x 3 = 24\n",
      "8 x 4 = 32\n",
      "8 x 5 = 40\n",
      "8 x 6 = 48\n",
      "8 x 7 = 56\n",
      "8 x 8 = 64\n",
      "8 x 9 = 72\n",
      "\n",
      "9단 시작!\n",
      "9 x 1 = 9\n",
      "9 x 2 = 18\n",
      "9 x 3 = 27\n",
      "9 x 4 = 36\n",
      "9 x 5 = 45\n",
      "9 x 6 = 54\n",
      "9 x 7 = 63\n",
      "9 x 8 = 72\n",
      "9 x 9 = 81\n"
     ]
    }
   ],
   "source": [
    "for i in range(1,10):\n",
    "    print(f\"\\n{i}단 시작!\")\n",
    "    for w in range(1,10):\n",
    "        print(f\"{i} x {w} = {i*w}\")"
   ]
  },
  {
   "cell_type": "code",
   "execution_count": 82,
   "id": "a936cdf9",
   "metadata": {},
   "outputs": [
    {
     "name": "stdout",
     "output_type": "stream",
     "text": [
      "0.14285714285714285\n",
      "0.16666666666666666\n",
      "0.2\n",
      "0.25\n",
      "0.3333333333333333\n",
      "0.5\n",
      "1.0\n"
     ]
    },
    {
     "ename": "ZeroDivisionError",
     "evalue": "division by zero",
     "output_type": "error",
     "traceback": [
      "\u001b[1;31m---------------------------------------------------------------------------\u001b[0m",
      "\u001b[1;31mZeroDivisionError\u001b[0m                         Traceback (most recent call last)",
      "Input \u001b[1;32mIn [82]\u001b[0m, in \u001b[0;36m<cell line: 1>\u001b[1;34m()\u001b[0m\n\u001b[0;32m      1\u001b[0m \u001b[38;5;28;01mfor\u001b[39;00m i \u001b[38;5;129;01min\u001b[39;00m \u001b[38;5;28mrange\u001b[39m(\u001b[38;5;241m10\u001b[39m):\n\u001b[1;32m----> 2\u001b[0m     \u001b[38;5;28mprint\u001b[39m(\u001b[38;5;241;43m1\u001b[39;49m\u001b[38;5;241;43m/\u001b[39;49m\u001b[43m(\u001b[49m\u001b[38;5;241;43m7\u001b[39;49m\u001b[38;5;241;43m-\u001b[39;49m\u001b[43mi\u001b[49m\u001b[43m)\u001b[49m)\n",
      "\u001b[1;31mZeroDivisionError\u001b[0m: division by zero"
     ]
    }
   ],
   "source": [
    "for i in range(10):\n",
    "    print(1/(7-i))"
   ]
  },
  {
   "cell_type": "code",
   "execution_count": null,
   "id": "ba3683f7",
   "metadata": {},
   "outputs": [],
   "source": [
    "try:\n",
    "    에러가 날 수도 잇는 코드가 에러가 나지 않을 경우에 실행될 코드\n",
    "except:\n",
    "    에러가 날 수도 있는 코드가 에러가 났을 때 실행될 코드"
   ]
  },
  {
   "cell_type": "code",
   "execution_count": 85,
   "id": "b724436d",
   "metadata": {},
   "outputs": [
    {
     "name": "stdout",
     "output_type": "stream",
     "text": [
      "0.14285714285714285\n",
      "0.16666666666666666\n",
      "0.2\n",
      "0.25\n",
      "0.3333333333333333\n",
      "0.5\n",
      "1.0\n",
      "에러가 났습니다!\n",
      "-1.0\n",
      "-0.5\n"
     ]
    }
   ],
   "source": [
    "for i in range(10):\n",
    "    try:\n",
    "        print(1/(7-i))\n",
    "    except:\n",
    "        print(\"에러가 났습니다!\")"
   ]
  },
  {
   "cell_type": "code",
   "execution_count": 86,
   "id": "cde55d16",
   "metadata": {},
   "outputs": [
    {
     "name": "stdout",
     "output_type": "stream",
     "text": [
      "3의 배수를 입력하세요 : 2\n"
     ]
    },
    {
     "ename": "Exception",
     "evalue": "너 혼난다!",
     "output_type": "error",
     "traceback": [
      "\u001b[1;31m---------------------------------------------------------------------------\u001b[0m",
      "\u001b[1;31mException\u001b[0m                                 Traceback (most recent call last)",
      "Input \u001b[1;32mIn [86]\u001b[0m, in \u001b[0;36m<cell line: 3>\u001b[1;34m()\u001b[0m\n\u001b[0;32m      2\u001b[0m a \u001b[38;5;241m=\u001b[39m \u001b[38;5;28mint\u001b[39m(\u001b[38;5;28minput\u001b[39m(\u001b[38;5;124m\"\u001b[39m\u001b[38;5;124m3의 배수를 입력하세요 : \u001b[39m\u001b[38;5;124m\"\u001b[39m))\n\u001b[0;32m      3\u001b[0m \u001b[38;5;28;01mif\u001b[39;00m a \u001b[38;5;241m%\u001b[39m\u001b[38;5;241m3\u001b[39m \u001b[38;5;241m!=\u001b[39m \u001b[38;5;241m0\u001b[39m:\n\u001b[1;32m----> 4\u001b[0m     \u001b[38;5;28;01mraise\u001b[39;00m \u001b[38;5;167;01mException\u001b[39;00m(\u001b[38;5;124m\"\u001b[39m\u001b[38;5;124m너 혼난다!\u001b[39m\u001b[38;5;124m\"\u001b[39m)\n\u001b[0;32m      5\u001b[0m \u001b[38;5;28;01melse\u001b[39;00m:\n\u001b[0;32m      6\u001b[0m     \u001b[38;5;28mprint\u001b[39m(a)\n",
      "\u001b[1;31mException\u001b[0m: 너 혼난다!"
     ]
    }
   ],
   "source": [
    "# python 허용, 개발자 허용 x -> raise exception\n",
    "a = int(input(\"3의 배수를 입력하세요 : \"))\n",
    "if a %3 != 0:\n",
    "    raise Exception(\"너 혼난다!\")\n",
    "else:\n",
    "    print(a)"
   ]
  },
  {
   "cell_type": "code",
   "execution_count": 87,
   "id": "68780373",
   "metadata": {},
   "outputs": [
    {
     "name": "stdout",
     "output_type": "stream",
     "text": [
      "25164150\n"
     ]
    }
   ],
   "source": [
    "a = 0\n",
    "b = 0\n",
    "for i in range(1,101):\n",
    "    a = a + i\n",
    "    b = b + i**2\n",
    "print(a**2 - b)"
   ]
  },
  {
   "cell_type": "markdown",
   "id": "7a164b4b",
   "metadata": {},
   "source": [
    "### 딕셔너리"
   ]
  },
  {
   "cell_type": "code",
   "execution_count": 95,
   "id": "863a097b",
   "metadata": {},
   "outputs": [
    {
     "data": {
      "text/plain": [
       "800"
      ]
     },
     "execution_count": 95,
     "metadata": {},
     "output_type": "execute_result"
    }
   ],
   "source": [
    "gg = {\"사과\" : 800, \"바나나\": 1000, \"포도\" : 800}\n",
    "gg[\"사과\"]"
   ]
  },
  {
   "cell_type": "code",
   "execution_count": 96,
   "id": "3564e3a3",
   "metadata": {},
   "outputs": [
    {
     "data": {
      "text/plain": [
       "{'사과': 800, '바나나': 1000, '포도': 800, '파인애플': 1200}"
      ]
     },
     "execution_count": 96,
     "metadata": {},
     "output_type": "execute_result"
    }
   ],
   "source": [
    "gg[\"파인애플\"] = 1200\n",
    "gg"
   ]
  },
  {
   "cell_type": "code",
   "execution_count": 97,
   "id": "36c03dba",
   "metadata": {},
   "outputs": [
    {
     "data": {
      "text/plain": [
       "{'사과': 800, '바나나': 1000, '포도': 800}"
      ]
     },
     "execution_count": 97,
     "metadata": {},
     "output_type": "execute_result"
    }
   ],
   "source": [
    "del gg[\"파인애플\"]\n",
    "gg"
   ]
  },
  {
   "cell_type": "code",
   "execution_count": 98,
   "id": "85726511",
   "metadata": {},
   "outputs": [
    {
     "name": "stdout",
     "output_type": "stream",
     "text": [
      "사과\n",
      "바나나\n",
      "포도\n"
     ]
    }
   ],
   "source": [
    "# for gg 중 key 중심으로 \n",
    "for i in gg:\n",
    "    print(i)"
   ]
  },
  {
   "cell_type": "code",
   "execution_count": 100,
   "id": "3b541a83",
   "metadata": {},
   "outputs": [
    {
     "data": {
      "text/plain": [
       "dict_keys(['사과', '바나나', '포도'])"
      ]
     },
     "execution_count": 100,
     "metadata": {},
     "output_type": "execute_result"
    }
   ],
   "source": [
    "gg.keys()"
   ]
  },
  {
   "cell_type": "code",
   "execution_count": 101,
   "id": "0e392266",
   "metadata": {},
   "outputs": [
    {
     "data": {
      "text/plain": [
       "dict_values([800, 1000, 800])"
      ]
     },
     "execution_count": 101,
     "metadata": {},
     "output_type": "execute_result"
    }
   ],
   "source": [
    "gg.values()"
   ]
  },
  {
   "cell_type": "markdown",
   "id": "c2779fd7",
   "metadata": {},
   "source": [
    "- 물가가 10% 올랐습니다!\n",
    "- gg 딕셔너리의 각 가일의 가격을 10% 올려주세요!"
   ]
  },
  {
   "cell_type": "code",
   "execution_count": 102,
   "id": "ac75860c",
   "metadata": {},
   "outputs": [
    {
     "data": {
      "text/plain": [
       "{'사과': 880, '바나나': 1100, '포도': 880}"
      ]
     },
     "execution_count": 102,
     "metadata": {},
     "output_type": "execute_result"
    }
   ],
   "source": [
    "for i in gg:\n",
    "    gg[i] = int(gg[i] * 1.1)\n",
    "gg   "
   ]
  },
  {
   "cell_type": "markdown",
   "id": "623a63a4",
   "metadata": {},
   "source": [
    "- 전국 사과 가격의 평균을 구해주세요"
   ]
  },
  {
   "cell_type": "code",
   "execution_count": 113,
   "id": "bbeaeea0",
   "metadata": {},
   "outputs": [],
   "source": [
    "ggg = {\"서울점\":{\"사과\":800,\"바나나\":1000,\"포도\":800},\n",
    "       \"부산점\":{\"사과\":700,\"바나나\":900,\"포도\":9000},\n",
    "       \"대구점\":{\"사과\":750,\"바나나\":800,\"포도\":1000}}"
   ]
  },
  {
   "cell_type": "code",
   "execution_count": 119,
   "id": "bf337bc0",
   "metadata": {},
   "outputs": [
    {
     "name": "stdout",
     "output_type": "stream",
     "text": [
      "750\n"
     ]
    }
   ],
   "source": [
    "result = 0\n",
    "for i in ggg:\n",
    "    result = result + ggg[i][\"사과\"]\n",
    "print(int(result/len(ggg)))"
   ]
  },
  {
   "cell_type": "markdown",
   "id": "f05dec12",
   "metadata": {},
   "source": [
    "- def 함수"
   ]
  },
  {
   "cell_type": "code",
   "execution_count": 120,
   "id": "74a8da44",
   "metadata": {},
   "outputs": [],
   "source": [
    "def add(x,y):\n",
    "    return x + y"
   ]
  },
  {
   "cell_type": "code",
   "execution_count": 121,
   "id": "e3791371",
   "metadata": {},
   "outputs": [
    {
     "data": {
      "text/plain": [
       "5"
      ]
     },
     "execution_count": 121,
     "metadata": {},
     "output_type": "execute_result"
    }
   ],
   "source": [
    "add(2,3)"
   ]
  },
  {
   "cell_type": "code",
   "execution_count": null,
   "id": "81046a0f",
   "metadata": {},
   "outputs": [],
   "source": []
  }
 ],
 "metadata": {
  "kernelspec": {
   "display_name": "Python 3 (ipykernel)",
   "language": "python",
   "name": "python3"
  },
  "language_info": {
   "codemirror_mode": {
    "name": "ipython",
    "version": 3
   },
   "file_extension": ".py",
   "mimetype": "text/x-python",
   "name": "python",
   "nbconvert_exporter": "python",
   "pygments_lexer": "ipython3",
   "version": "3.9.12"
  }
 },
 "nbformat": 4,
 "nbformat_minor": 5
}
