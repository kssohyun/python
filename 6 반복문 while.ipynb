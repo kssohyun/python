{
 "cells": [
  {
   "cell_type": "code",
   "execution_count": null,
   "id": "2efa6756",
   "metadata": {},
   "outputs": [],
   "source": [
    "while 명제:\n",
    "    명제가 참인 한 영원히 반복하는 코드"
   ]
  },
  {
   "cell_type": "code",
   "execution_count": 1,
   "id": "6a09178d",
   "metadata": {},
   "outputs": [
    {
     "name": "stdout",
     "output_type": "stream",
     "text": [
      "1\n",
      "1\n",
      "1\n"
     ]
    }
   ],
   "source": [
    "n = 0\n",
    "while n < 3:\n",
    "    print(1)\n",
    "    n = n+1"
   ]
  },
  {
   "cell_type": "markdown",
   "id": "707b4380",
   "metadata": {},
   "source": [
    "- while 문을 사용해서 \"Hello Python\"을 10번을 출력합니다."
   ]
  },
  {
   "cell_type": "code",
   "execution_count": 2,
   "id": "02ab5a45",
   "metadata": {},
   "outputs": [
    {
     "name": "stdout",
     "output_type": "stream",
     "text": [
      "Hello Python\n",
      "Hello Python\n",
      "Hello Python\n",
      "Hello Python\n",
      "Hello Python\n",
      "Hello Python\n",
      "Hello Python\n",
      "Hello Python\n",
      "Hello Python\n",
      "Hello Python\n"
     ]
    }
   ],
   "source": [
    "n = 0\n",
    "while n <10:\n",
    "    print(\"Hello Python\")\n",
    "    n = n+1"
   ]
  },
  {
   "cell_type": "code",
   "execution_count": 3,
   "id": "1ffa1b3c",
   "metadata": {},
   "outputs": [
    {
     "name": "stdout",
     "output_type": "stream",
     "text": [
      "1\n"
     ]
    }
   ],
   "source": [
    "n = 0\n",
    "while n < 1:\n",
    "    print(1)\n",
    "    break"
   ]
  },
  {
   "cell_type": "code",
   "execution_count": 5,
   "id": "19227385",
   "metadata": {},
   "outputs": [
    {
     "name": "stdout",
     "output_type": "stream",
     "text": [
      "1\n",
      "2\n",
      "3\n",
      "4\n",
      "5\n",
      "6\n",
      "7\n",
      "8\n",
      "9\n",
      "10\n",
      "11\n",
      "12\n",
      "13\n",
      "14\n",
      "15\n"
     ]
    }
   ],
   "source": [
    "n = 1\n",
    "while True:\n",
    "    print(n)\n",
    "    if n < 15:\n",
    "        n = n+1\n",
    "    else:\n",
    "        break"
   ]
  },
  {
   "cell_type": "markdown",
   "id": "659f0d31",
   "metadata": {},
   "source": [
    "- 두 개의 정수를 입력받습니다.\n",
    "- 입력받은 두 정수의 합을 출력합니다\n",
    "- 두 개의 정수로 0고 0을 입력받은 경우, 반복문에서 이탈합니다."
   ]
  },
  {
   "cell_type": "code",
   "execution_count": 7,
   "id": "ffce2569",
   "metadata": {},
   "outputs": [
    {
     "name": "stdout",
     "output_type": "stream",
     "text": [
      "첫번째 정수를 입력하세요 : 2\n",
      "두번째 정수를 입력하세요 : 3\n",
      "5\n",
      "첫번째 정수를 입력하세요 : 0\n",
      "두번째 정수를 입력하세요 : 0\n"
     ]
    }
   ],
   "source": [
    "while True:\n",
    "    num1 = int(input(\"첫번째 정수를 입력하세요 : \"))\n",
    "    num2 = int(input(\"두번째 정수를 입력하세요 : \"))\n",
    "    if num1 == 0 and num2 == 0:\n",
    "        break\n",
    "    else:\n",
    "        print(num1 + num2)"
   ]
  },
  {
   "cell_type": "markdown",
   "id": "cfbc1354",
   "metadata": {},
   "source": [
    "### 다이어트 관리 프로그램\n",
    "\n",
    "- 목표 몸무게를 입력합니다.\n",
    "- 현재 몸무게를 입력합니다.\n",
    "- 매 주 감량한 몸무게를 입력한 뒤, 현재 몸무게가 목표 몸무게보다 적어지면, 프로그램을 종료합니다.\n",
    "- 출력 값은 \"축하합니다! __주 걸렸습니다.\" 형태입니다."
   ]
  },
  {
   "cell_type": "code",
   "execution_count": 24,
   "id": "d68902fc",
   "metadata": {},
   "outputs": [
    {
     "name": "stdout",
     "output_type": "stream",
     "text": [
      "현재 몸무게를 입력하세요 : 20\n",
      "목표 몸무게를 입력하세요 : 10\n",
      "감량한 몸무게를 적어주세요 : 10\n",
      "축하합니다! 1주 걸렸습니다.\n"
     ]
    }
   ],
   "source": [
    "weight = int(input(\"현재 몸무게를 입력하세요 : \"))\n",
    "goal = int(input(\"목표 몸무게를 입력하세요 : \"))\n",
    "n = 0\n",
    "while weight > goal:\n",
    "    lost_weight = int(input(\"감량한 몸무게를 적어주세요 : \"))\n",
    "    n = n+1\n",
    "    weight = weight - (lost_weight)\n",
    "print(\"축하합니다! {}주 걸렸습니다.\".format(n))"
   ]
  },
  {
   "cell_type": "code",
   "execution_count": 26,
   "id": "db129773",
   "metadata": {},
   "outputs": [
    {
     "name": "stdout",
     "output_type": "stream",
     "text": [
      "현재 몸무게를 입력하세요 : 20\n",
      "목표 몸무게를 입력하세요 : 10\n",
      "감량한 몸무게를 입력하세요 : 3\n",
      "감량한 몸무게를 입력하세요 : 3\n",
      "감량한 몸무게를 입력하세요 : 3\n",
      "감량한 몸무게를 입력하세요 : 3\n",
      "축하합니다! 4주 걸렸습니다!\n"
     ]
    }
   ],
   "source": [
    "weight = int(input(\"현재 몸무게를 입력하세요 : \"))\n",
    "goal = int(input(\"목표 몸무게를 입력하세요 : \"))\n",
    "n = 0\n",
    "while weight > goal:\n",
    "    lost_weight = int(input(\"감량한 몸무게를 입력하세요 : \"))\n",
    "    weight = weight - lost_weight\n",
    "    n = n+1\n",
    "print(\"축하합니다! {}주 걸렸습니다!\".format(n))"
   ]
  },
  {
   "cell_type": "code",
   "execution_count": null,
   "id": "96f01c5e",
   "metadata": {},
   "outputs": [],
   "source": []
  }
 ],
 "metadata": {
  "kernelspec": {
   "display_name": "Python 3 (ipykernel)",
   "language": "python",
   "name": "python3"
  },
  "language_info": {
   "codemirror_mode": {
    "name": "ipython",
    "version": 3
   },
   "file_extension": ".py",
   "mimetype": "text/x-python",
   "name": "python",
   "nbconvert_exporter": "python",
   "pygments_lexer": "ipython3",
   "version": "3.9.12"
  }
 },
 "nbformat": 4,
 "nbformat_minor": 5
}
