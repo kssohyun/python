{
 "cells": [
  {
   "cell_type": "code",
   "execution_count": 2,
   "id": "1c993601",
   "metadata": {},
   "outputs": [],
   "source": [
    "csb = {\"이름\" : \"홍길동\", \"나이\" : 20, \"키\" : 168}\n",
    "\n",
    "class1_4 = {\"이름\" : [\"홍길동\",\"김철수\",\"최영희\"],\n",
    "           \"나이\" : [20,21,22],\n",
    "           \"키\" : [168,177,180]}"
   ]
  },
  {
   "cell_type": "code",
   "execution_count": 3,
   "id": "7cebea61",
   "metadata": {},
   "outputs": [
    {
     "data": {
      "text/plain": [
       "['홍길동', '김철수', '최영희']"
      ]
     },
     "execution_count": 3,
     "metadata": {},
     "output_type": "execute_result"
    }
   ],
   "source": [
    "class1_4[\"이름\"]"
   ]
  },
  {
   "cell_type": "code",
   "execution_count": 4,
   "id": "294b5a59",
   "metadata": {},
   "outputs": [
    {
     "data": {
      "text/plain": [
       "{'이름': ['홍길동', '김철수', '최영희'],\n",
       " '나이': [20, 21, 22],\n",
       " '키': [168, 177, 180],\n",
       " '발 사이즈': [240, 250, 270]}"
      ]
     },
     "execution_count": 4,
     "metadata": {},
     "output_type": "execute_result"
    }
   ],
   "source": [
    "class1_4[\"발 사이즈\"] = [240,250,270]\n",
    "class1_4"
   ]
  },
  {
   "cell_type": "code",
   "execution_count": 5,
   "id": "45e96058",
   "metadata": {},
   "outputs": [
    {
     "data": {
      "text/plain": [
       "dict_keys(['이름', '나이', '키', '발 사이즈'])"
      ]
     },
     "execution_count": 5,
     "metadata": {},
     "output_type": "execute_result"
    }
   ],
   "source": [
    "class1_4.keys()"
   ]
  },
  {
   "cell_type": "code",
   "execution_count": 6,
   "id": "59ce45c8",
   "metadata": {},
   "outputs": [
    {
     "data": {
      "text/plain": [
       "{'이름': ['홍길동', '김철수', '최영희'], '나이': [20, 21, 22], '키': [168, 177, 180]}"
      ]
     },
     "execution_count": 6,
     "metadata": {},
     "output_type": "execute_result"
    }
   ],
   "source": [
    "del class1_4[\"발 사이즈\"]\n",
    "class1_4"
   ]
  },
  {
   "cell_type": "code",
   "execution_count": 7,
   "id": "ecb12968",
   "metadata": {},
   "outputs": [
    {
     "data": {
      "text/plain": [
       "dict_values([['홍길동', '김철수', '최영희'], [20, 21, 22], [168, 177, 180]])"
      ]
     },
     "execution_count": 7,
     "metadata": {},
     "output_type": "execute_result"
    }
   ],
   "source": [
    "class1_4.values()"
   ]
  },
  {
   "cell_type": "code",
   "execution_count": 8,
   "id": "2c16c543",
   "metadata": {},
   "outputs": [
    {
     "name": "stdout",
     "output_type": "stream",
     "text": [
      "이름\n",
      "나이\n",
      "키\n"
     ]
    }
   ],
   "source": [
    "for i in class1_4:\n",
    "    print(i)"
   ]
  },
  {
   "cell_type": "code",
   "execution_count": 9,
   "id": "911fa249",
   "metadata": {},
   "outputs": [
    {
     "data": {
      "text/plain": [
       "True"
      ]
     },
     "execution_count": 9,
     "metadata": {},
     "output_type": "execute_result"
    }
   ],
   "source": [
    "\"이름\" in class1_4"
   ]
  },
  {
   "cell_type": "code",
   "execution_count": 10,
   "id": "164ac334",
   "metadata": {},
   "outputs": [
    {
     "data": {
      "text/plain": [
       "False"
      ]
     },
     "execution_count": 10,
     "metadata": {},
     "output_type": "execute_result"
    }
   ],
   "source": [
    "\"홍길동\" in class1_4"
   ]
  },
  {
   "cell_type": "markdown",
   "id": "472e8cab",
   "metadata": {},
   "source": [
    "### class1_4의 \"이름\" key에 할당된 value들을 전부 성을 땐 이름들로 출력하고 싶습니다.\n",
    "\n",
    "- 홍길동 > 길동\n",
    "- 김철수 > 철수\n",
    "- 김영희 > 영희"
   ]
  },
  {
   "cell_type": "code",
   "execution_count": 12,
   "id": "681c42bd",
   "metadata": {},
   "outputs": [
    {
     "name": "stdout",
     "output_type": "stream",
     "text": [
      "길동\n",
      "철수\n",
      "영희\n"
     ]
    }
   ],
   "source": [
    "new_names = []\n",
    "for i in class1_4[\"이름\"]:\n",
    "    print(i[1:])\n",
    "    new_names.append(i[1:])"
   ]
  },
  {
   "cell_type": "code",
   "execution_count": 13,
   "id": "6d7673f3",
   "metadata": {},
   "outputs": [
    {
     "data": {
      "text/plain": [
       "[0, 1, 4, 9, 16, 25, 36, 49, 64, 81]"
      ]
     },
     "execution_count": 13,
     "metadata": {},
     "output_type": "execute_result"
    }
   ],
   "source": [
    "[i**2 for i in range(10)]"
   ]
  },
  {
   "cell_type": "code",
   "execution_count": null,
   "id": "172f7267",
   "metadata": {},
   "outputs": [],
   "source": []
  }
 ],
 "metadata": {
  "kernelspec": {
   "display_name": "Python 3 (ipykernel)",
   "language": "python",
   "name": "python3"
  },
  "language_info": {
   "codemirror_mode": {
    "name": "ipython",
    "version": 3
   },
   "file_extension": ".py",
   "mimetype": "text/x-python",
   "name": "python",
   "nbconvert_exporter": "python",
   "pygments_lexer": "ipython3",
   "version": "3.9.12"
  }
 },
 "nbformat": 4,
 "nbformat_minor": 5
}
