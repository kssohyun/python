{
 "cells": [
  {
   "cell_type": "code",
   "execution_count": 1,
   "id": "7891bc12",
   "metadata": {},
   "outputs": [
    {
     "data": {
      "text/plain": [
       "2"
      ]
     },
     "execution_count": 1,
     "metadata": {},
     "output_type": "execute_result"
    }
   ],
   "source": [
    "1+1"
   ]
  },
  {
   "cell_type": "code",
   "execution_count": 2,
   "id": "5ad595b0",
   "metadata": {},
   "outputs": [
    {
     "data": {
      "text/plain": [
       "0"
      ]
     },
     "execution_count": 2,
     "metadata": {},
     "output_type": "execute_result"
    }
   ],
   "source": [
    "1-1"
   ]
  },
  {
   "cell_type": "code",
   "execution_count": 3,
   "id": "7c16afb8",
   "metadata": {},
   "outputs": [
    {
     "data": {
      "text/plain": [
       "4"
      ]
     },
     "execution_count": 3,
     "metadata": {},
     "output_type": "execute_result"
    }
   ],
   "source": [
    "2*2"
   ]
  },
  {
   "cell_type": "code",
   "execution_count": 4,
   "id": "30f67430",
   "metadata": {},
   "outputs": [
    {
     "data": {
      "text/plain": [
       "1.0"
      ]
     },
     "execution_count": 4,
     "metadata": {},
     "output_type": "execute_result"
    }
   ],
   "source": [
    "2/2"
   ]
  },
  {
   "cell_type": "markdown",
   "id": "5e450180",
   "metadata": {},
   "source": [
    "## 지수연산"
   ]
  },
  {
   "cell_type": "code",
   "execution_count": 5,
   "id": "53ca061a",
   "metadata": {},
   "outputs": [
    {
     "data": {
      "text/plain": [
       "8"
      ]
     },
     "execution_count": 5,
     "metadata": {},
     "output_type": "execute_result"
    }
   ],
   "source": [
    "2**3"
   ]
  },
  {
   "cell_type": "markdown",
   "id": "132c975a",
   "metadata": {},
   "source": [
    "## 몫 연산, 나머지 연산\n"
   ]
  },
  {
   "cell_type": "code",
   "execution_count": 6,
   "id": "847cbcdb",
   "metadata": {},
   "outputs": [
    {
     "data": {
      "text/plain": [
       "2"
      ]
     },
     "execution_count": 6,
     "metadata": {},
     "output_type": "execute_result"
    }
   ],
   "source": [
    "7//3"
   ]
  },
  {
   "cell_type": "code",
   "execution_count": 7,
   "id": "e6cf6f6e",
   "metadata": {},
   "outputs": [
    {
     "data": {
      "text/plain": [
       "1"
      ]
     },
     "execution_count": 7,
     "metadata": {},
     "output_type": "execute_result"
    }
   ],
   "source": [
    "7%3"
   ]
  },
  {
   "cell_type": "code",
   "execution_count": 8,
   "id": "e2cf9e20",
   "metadata": {},
   "outputs": [
    {
     "data": {
      "text/plain": [
       "'안녕하세요'"
      ]
     },
     "execution_count": 8,
     "metadata": {},
     "output_type": "execute_result"
    }
   ],
   "source": [
    "\"안녕\" + \"하세요\""
   ]
  },
  {
   "cell_type": "code",
   "execution_count": 9,
   "id": "81e34665",
   "metadata": {},
   "outputs": [
    {
     "data": {
      "text/plain": [
       "'안녕안녕안녕'"
      ]
     },
     "execution_count": 9,
     "metadata": {},
     "output_type": "execute_result"
    }
   ],
   "source": [
    "\"안녕\"*3"
   ]
  },
  {
   "cell_type": "code",
   "execution_count": 10,
   "id": "89ffa48d",
   "metadata": {},
   "outputs": [
    {
     "data": {
      "text/plain": [
       "'2107'"
      ]
     },
     "execution_count": 10,
     "metadata": {},
     "output_type": "execute_result"
    }
   ],
   "source": [
    "# 2 + \"10\" + 7\n",
    "str(2) + str(\"10\") + str(7)"
   ]
  },
  {
   "cell_type": "code",
   "execution_count": 11,
   "id": "e06c0d1b",
   "metadata": {},
   "outputs": [
    {
     "data": {
      "text/plain": [
       "19"
      ]
     },
     "execution_count": 11,
     "metadata": {},
     "output_type": "execute_result"
    }
   ],
   "source": [
    "int(2) + int(\"10\") + int(7)"
   ]
  },
  {
   "cell_type": "code",
   "execution_count": 13,
   "id": "5bf369a6",
   "metadata": {},
   "outputs": [
    {
     "name": "stdout",
     "output_type": "stream",
     "text": [
      "아이디를 입력하세요! : aa\n"
     ]
    }
   ],
   "source": [
    "a = input(\"아이디를 입력하세요! : \")"
   ]
  },
  {
   "cell_type": "code",
   "execution_count": 15,
   "id": "a0751b69",
   "metadata": {},
   "outputs": [
    {
     "data": {
      "text/plain": [
       "'aa'"
      ]
     },
     "execution_count": 15,
     "metadata": {},
     "output_type": "execute_result"
    }
   ],
   "source": [
    "a"
   ]
  },
  {
   "cell_type": "code",
   "execution_count": 17,
   "id": "81077e51",
   "metadata": {},
   "outputs": [
    {
     "name": "stdout",
     "output_type": "stream",
     "text": [
      "정수를 입력하세요! : 232323\n"
     ]
    }
   ],
   "source": [
    "b = int(input(\"정수를 입력하세요! : \"))"
   ]
  },
  {
   "cell_type": "code",
   "execution_count": 18,
   "id": "384f1e32",
   "metadata": {},
   "outputs": [
    {
     "data": {
      "text/plain": [
       "232323"
      ]
     },
     "execution_count": 18,
     "metadata": {},
     "output_type": "execute_result"
    }
   ],
   "source": [
    "b"
   ]
  },
  {
   "cell_type": "markdown",
   "id": "10ba7522",
   "metadata": {},
   "source": [
    "### 시간 파싱하기\n",
    "- \"2022년 8월 10일 14시 33분 27초\""
   ]
  },
  {
   "cell_type": "code",
   "execution_count": 26,
   "id": "55a02b8a",
   "metadata": {},
   "outputs": [
    {
     "data": {
      "text/plain": [
       "'2022-08-14 22:09:22'"
      ]
     },
     "execution_count": 26,
     "metadata": {},
     "output_type": "execute_result"
    }
   ],
   "source": [
    "import datetime\n",
    "datetime.datetime.now().strftime(\"%Y-%m-%d %H:%M:%S\")"
   ]
  },
  {
   "cell_type": "code",
   "execution_count": 28,
   "id": "1202106c",
   "metadata": {},
   "outputs": [
    {
     "name": "stdout",
     "output_type": "stream",
     "text": [
      "2022년 08월 14일 22시 30분 04초\n"
     ]
    }
   ],
   "source": [
    "now = datetime.datetime.now().strftime(\"%Y-%m-%d %H:%M:%S\")\n",
    "year= now[:4]\n",
    "month = now[5:7]\n",
    "day = now[8:10]\n",
    "hour = now[11:13]\n",
    "minute = now[14:16]\n",
    "second = now[17:]\n",
    "\n",
    "print(\"{}년 {}월 {}일 {}시 {}분 {}초\".format(year,month,day,hour,minute,second))"
   ]
  },
  {
   "cell_type": "markdown",
   "id": "200ba32f",
   "metadata": {},
   "source": [
    "- input 함수로 초 단위로 시간을 받습니다.\n",
    "- 그 시간을 시간, 분, 초로 나누어서 출력합니다.\n",
    "- 예시) 3653을 받으면, 1시간 0분 53초로 출력"
   ]
  },
  {
   "cell_type": "code",
   "execution_count": 31,
   "id": "ce886671",
   "metadata": {},
   "outputs": [
    {
     "name": "stdout",
     "output_type": "stream",
     "text": [
      "초 단위의 시간을 입력해주세요 : 3653\n",
      "1시간 0분 53초\n"
     ]
    }
   ],
   "source": [
    "time = int(input(\"초 단위의 시간을 입력해주세요 : \"))\n",
    "\n",
    "hour = time//3600\n",
    "minute = (time%3600)//360\n",
    "second = time%60\n",
    "\n",
    "print(\"{}시간 {}분 {}초\".format(hour,minute,second))"
   ]
  },
  {
   "cell_type": "code",
   "execution_count": 34,
   "id": "fed5ace4",
   "metadata": {},
   "outputs": [
    {
     "data": {
      "text/plain": [
       "216"
      ]
     },
     "execution_count": 34,
     "metadata": {},
     "output_type": "execute_result"
    }
   ],
   "source": [
    "num = 3\n",
    "num += 3\n",
    "num **=3\n",
    "num"
   ]
  },
  {
   "cell_type": "code",
   "execution_count": 35,
   "id": "08fdaa6f",
   "metadata": {},
   "outputs": [
    {
     "data": {
      "text/plain": [
       "1"
      ]
     },
     "execution_count": 35,
     "metadata": {},
     "output_type": "execute_result"
    }
   ],
   "source": [
    "# True = 1, False = 0\n",
    "True + 1\n",
    "False + 1"
   ]
  },
  {
   "cell_type": "code",
   "execution_count": 36,
   "id": "52ea98f7",
   "metadata": {},
   "outputs": [
    {
     "data": {
      "text/plain": [
       "True"
      ]
     },
     "execution_count": 36,
     "metadata": {},
     "output_type": "execute_result"
    }
   ],
   "source": [
    "True == 1"
   ]
  },
  {
   "cell_type": "code",
   "execution_count": 38,
   "id": "28dc1650",
   "metadata": {},
   "outputs": [
    {
     "name": "stdout",
     "output_type": "stream",
     "text": [
      "정수를 입력하세요 : 2\n"
     ]
    },
    {
     "data": {
      "text/plain": [
       "False"
      ]
     },
     "execution_count": 38,
     "metadata": {},
     "output_type": "execute_result"
    }
   ],
   "source": [
    "num = int(input(\"정수를 입력하세요 : \"))\n",
    "\n",
    "num == 0 or num == 1"
   ]
  },
  {
   "cell_type": "markdown",
   "id": "eb3fbe47",
   "metadata": {},
   "source": [
    "- input 함수로 num에 임의의 정수를 입력받습니다.\n",
    "- 입력된 수가 2의 배수이자 3의 배수이면 True, 그렇지 않으면 False를 출력합니다.\n",
    "- \n",
    "- input 함수로 num에 임의의 정수를 입력받습니다.\n",
    "- 입력된 수가 2의 배수이거나 3의 배수이면 True, 그렇지 않으면 False를 출력합니다."
   ]
  },
  {
   "cell_type": "code",
   "execution_count": 40,
   "id": "e8882680",
   "metadata": {},
   "outputs": [
    {
     "name": "stdout",
     "output_type": "stream",
     "text": [
      "정수를 입력하세요 : 3\n"
     ]
    },
    {
     "data": {
      "text/plain": [
       "False"
      ]
     },
     "execution_count": 40,
     "metadata": {},
     "output_type": "execute_result"
    }
   ],
   "source": [
    "num = int(input(\"정수를 입력하세요 : \"))\n",
    "num%2 == 0 and num%3 == 0"
   ]
  },
  {
   "cell_type": "code",
   "execution_count": 41,
   "id": "8c346b2d",
   "metadata": {},
   "outputs": [
    {
     "name": "stdout",
     "output_type": "stream",
     "text": [
      "정수를 입력하세요 : 3\n"
     ]
    },
    {
     "data": {
      "text/plain": [
       "True"
      ]
     },
     "execution_count": 41,
     "metadata": {},
     "output_type": "execute_result"
    }
   ],
   "source": [
    "num = int(input(\"정수를 입력하세요 : \"))\n",
    "num%2 == 0 or num%3 == 0"
   ]
  },
  {
   "cell_type": "code",
   "execution_count": null,
   "id": "6ddba5cd",
   "metadata": {},
   "outputs": [],
   "source": []
  }
 ],
 "metadata": {
  "kernelspec": {
   "display_name": "Python 3 (ipykernel)",
   "language": "python",
   "name": "python3"
  },
  "language_info": {
   "codemirror_mode": {
    "name": "ipython",
    "version": 3
   },
   "file_extension": ".py",
   "mimetype": "text/x-python",
   "name": "python",
   "nbconvert_exporter": "python",
   "pygments_lexer": "ipython3",
   "version": "3.9.12"
  }
 },
 "nbformat": 4,
 "nbformat_minor": 5
}
