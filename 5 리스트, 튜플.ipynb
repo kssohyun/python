{
 "cells": [
  {
   "cell_type": "code",
   "execution_count": 1,
   "id": "383f9df7",
   "metadata": {},
   "outputs": [],
   "source": [
    "a = [1,2,3,4]"
   ]
  },
  {
   "cell_type": "code",
   "execution_count": 2,
   "id": "bbde84eb",
   "metadata": {},
   "outputs": [
    {
     "data": {
      "text/plain": [
       "['My', 'name', 'is', 'Sohyun']"
      ]
     },
     "execution_count": 2,
     "metadata": {},
     "output_type": "execute_result"
    }
   ],
   "source": [
    "b = [\"My\", \"name\", \"is\", \"Sohyun\"]\n",
    "b"
   ]
  },
  {
   "cell_type": "code",
   "execution_count": 3,
   "id": "930a91aa",
   "metadata": {},
   "outputs": [
    {
     "data": {
      "text/plain": [
       "['My', 'name', 'is', 'Sohyun']"
      ]
     },
     "execution_count": 3,
     "metadata": {},
     "output_type": "execute_result"
    }
   ],
   "source": [
    "\"My name is Sohyun\".split()"
   ]
  },
  {
   "cell_type": "code",
   "execution_count": 5,
   "id": "0eaaa5a2",
   "metadata": {},
   "outputs": [
    {
     "data": {
      "text/plain": [
       "[1, 2, 'My', 'name']"
      ]
     },
     "execution_count": 5,
     "metadata": {},
     "output_type": "execute_result"
    }
   ],
   "source": [
    "c = [1,2,\"My\",\"name\"]\n",
    "c"
   ]
  },
  {
   "cell_type": "code",
   "execution_count": 6,
   "id": "bed173e9",
   "metadata": {},
   "outputs": [
    {
     "data": {
      "text/plain": [
       "'a'"
      ]
     },
     "execution_count": 6,
     "metadata": {},
     "output_type": "execute_result"
    }
   ],
   "source": [
    "d = [1,2,[\"a\",\"b\"]]\n",
    "d[2][0]"
   ]
  },
  {
   "cell_type": "code",
   "execution_count": 7,
   "id": "d7cd7ed2",
   "metadata": {},
   "outputs": [
    {
     "data": {
      "text/plain": [
       "[]"
      ]
     },
     "execution_count": 7,
     "metadata": {},
     "output_type": "execute_result"
    }
   ],
   "source": [
    "e = []\n",
    "e"
   ]
  },
  {
   "cell_type": "code",
   "execution_count": 8,
   "id": "0e2aa5c8",
   "metadata": {},
   "outputs": [
    {
     "data": {
      "text/plain": [
       "[7, 8, 9]"
      ]
     },
     "execution_count": 8,
     "metadata": {},
     "output_type": "execute_result"
    }
   ],
   "source": [
    "i = [7,8,9,10]\n",
    "i[0:3]"
   ]
  },
  {
   "cell_type": "code",
   "execution_count": 9,
   "id": "27260a21",
   "metadata": {},
   "outputs": [],
   "source": [
    "#튜플\n",
    "a = ()\n",
    "b = (1,2,3,4)\n",
    "c = (\"a\",\"b\",\"c\")\n",
    "d = (1,2,\"a\",\"b\")\n",
    "e = (1,2,[\"a\",\"b\"])\n",
    "f = (1,2,(\"a\",\"b\"))"
   ]
  },
  {
   "cell_type": "code",
   "execution_count": 10,
   "id": "72394c5f",
   "metadata": {},
   "outputs": [
    {
     "data": {
      "text/plain": [
       "('a', 'b', 'c')"
      ]
     },
     "execution_count": 10,
     "metadata": {},
     "output_type": "execute_result"
    }
   ],
   "source": [
    "c[0:3]"
   ]
  },
  {
   "cell_type": "code",
   "execution_count": 11,
   "id": "ff6b465b",
   "metadata": {},
   "outputs": [
    {
     "data": {
      "text/plain": [
       "[1, 2, 3, 4, 5, 6, 7, 8]"
      ]
     },
     "execution_count": 11,
     "metadata": {},
     "output_type": "execute_result"
    }
   ],
   "source": [
    "a = [1,2,3,4]\n",
    "b = [5,6,7,8]\n",
    "a+b"
   ]
  },
  {
   "cell_type": "code",
   "execution_count": 12,
   "id": "64a4193a",
   "metadata": {},
   "outputs": [
    {
     "data": {
      "text/plain": [
       "[1, 2, 3, 4, 5]"
      ]
     },
     "execution_count": 12,
     "metadata": {},
     "output_type": "execute_result"
    }
   ],
   "source": [
    "a.append(5)\n",
    "a"
   ]
  },
  {
   "cell_type": "code",
   "execution_count": 13,
   "id": "b918c83e",
   "metadata": {},
   "outputs": [
    {
     "data": {
      "text/plain": [
       "[8, 1, 2, 3, 4, 5]"
      ]
     },
     "execution_count": 13,
     "metadata": {},
     "output_type": "execute_result"
    }
   ],
   "source": [
    "# insert (넣고 싶은 자리, 넣고 싶은 숫자)\n",
    "a.insert(0,8)\n",
    "a"
   ]
  },
  {
   "cell_type": "code",
   "execution_count": 14,
   "id": "e128dbc9",
   "metadata": {},
   "outputs": [
    {
     "data": {
      "text/plain": [
       "[8, 1, 2, 3, 4, 5]"
      ]
     },
     "execution_count": 14,
     "metadata": {},
     "output_type": "execute_result"
    }
   ],
   "source": [
    "# 리스트는 따로 설정하지 않아도 됨, 문자열은 해야됨\n",
    "a"
   ]
  },
  {
   "cell_type": "code",
   "execution_count": 15,
   "id": "28ce7171",
   "metadata": {},
   "outputs": [
    {
     "data": {
      "text/plain": [
       "[8, 1, 2, 3, 4, 5, 20]"
      ]
     },
     "execution_count": 15,
     "metadata": {},
     "output_type": "execute_result"
    }
   ],
   "source": [
    "a.append(20)\n",
    "a"
   ]
  },
  {
   "cell_type": "code",
   "execution_count": 16,
   "id": "067d3d04",
   "metadata": {},
   "outputs": [
    {
     "data": {
      "text/plain": [
       "[8, 1, 2, 3, 4, 5, 20, 20]"
      ]
     },
     "execution_count": 16,
     "metadata": {},
     "output_type": "execute_result"
    }
   ],
   "source": [
    "a.insert(-1,20)\n",
    "a"
   ]
  },
  {
   "cell_type": "code",
   "execution_count": 17,
   "id": "0bb38fab",
   "metadata": {},
   "outputs": [
    {
     "data": {
      "text/plain": [
       "[1, 2, 3, 4, 5, 20, 20]"
      ]
     },
     "execution_count": 17,
     "metadata": {},
     "output_type": "execute_result"
    }
   ],
   "source": [
    "del a[0]\n",
    "a"
   ]
  },
  {
   "cell_type": "code",
   "execution_count": 18,
   "id": "0be90e17",
   "metadata": {},
   "outputs": [
    {
     "data": {
      "text/plain": [
       "[1, 2, 3, 4]"
      ]
     },
     "execution_count": 18,
     "metadata": {},
     "output_type": "execute_result"
    }
   ],
   "source": [
    "del a[4:]\n",
    "a"
   ]
  },
  {
   "cell_type": "code",
   "execution_count": 19,
   "id": "844deafa",
   "metadata": {},
   "outputs": [
    {
     "data": {
      "text/plain": [
       "[2, 3, 4]"
      ]
     },
     "execution_count": 19,
     "metadata": {},
     "output_type": "execute_result"
    }
   ],
   "source": [
    "a.remove(1)\n",
    "a"
   ]
  },
  {
   "cell_type": "code",
   "execution_count": 28,
   "id": "daf1f047",
   "metadata": {},
   "outputs": [
    {
     "data": {
      "text/plain": [
       "[1, 2, 3, 4, 5, 9, 7, 3]"
      ]
     },
     "execution_count": 28,
     "metadata": {},
     "output_type": "execute_result"
    }
   ],
   "source": [
    "b = [1,2,3,4,5,9,7,3]\n",
    "b"
   ]
  },
  {
   "cell_type": "code",
   "execution_count": 29,
   "id": "b033c7ff",
   "metadata": {},
   "outputs": [
    {
     "data": {
      "text/plain": [
       "[1, 3, 4, 5, 9, 7, 3]"
      ]
     },
     "execution_count": 29,
     "metadata": {},
     "output_type": "execute_result"
    }
   ],
   "source": [
    "b.remove(2)\n",
    "b"
   ]
  },
  {
   "cell_type": "code",
   "execution_count": 30,
   "id": "8b5e30ba",
   "metadata": {},
   "outputs": [
    {
     "data": {
      "text/plain": [
       "[1, 3, 5, 5, 9, 7, 3]"
      ]
     },
     "execution_count": 30,
     "metadata": {},
     "output_type": "execute_result"
    }
   ],
   "source": [
    "b[2] = 5\n",
    "b"
   ]
  },
  {
   "cell_type": "code",
   "execution_count": 31,
   "id": "1b5fbd2b",
   "metadata": {},
   "outputs": [
    {
     "data": {
      "text/plain": [
       "[1, 3, 3, 5, 5, 7, 9]"
      ]
     },
     "execution_count": 31,
     "metadata": {},
     "output_type": "execute_result"
    }
   ],
   "source": [
    "b.sort()\n",
    "b"
   ]
  },
  {
   "cell_type": "code",
   "execution_count": 32,
   "id": "df263afb",
   "metadata": {},
   "outputs": [
    {
     "data": {
      "text/plain": [
       "[9, 7, 5, 5, 3, 3, 1]"
      ]
     },
     "execution_count": 32,
     "metadata": {},
     "output_type": "execute_result"
    }
   ],
   "source": [
    "b.sort(reverse = True)\n",
    "b"
   ]
  },
  {
   "cell_type": "code",
   "execution_count": 33,
   "id": "86198465",
   "metadata": {},
   "outputs": [
    {
     "data": {
      "text/plain": [
       "7"
      ]
     },
     "execution_count": 33,
     "metadata": {},
     "output_type": "execute_result"
    }
   ],
   "source": [
    "# 리스트의 길이\n",
    "len(b)"
   ]
  },
  {
   "cell_type": "code",
   "execution_count": 36,
   "id": "3623abcf",
   "metadata": {},
   "outputs": [
    {
     "data": {
      "text/plain": [
       "True"
      ]
     },
     "execution_count": 36,
     "metadata": {},
     "output_type": "execute_result"
    }
   ],
   "source": [
    "cs = [\"사이다\", \"콜라\", \"주스\"]\n",
    "\"콜라\" in cs\n",
    "\"카프리썬\" in cs\n",
    "\"카프리썬\" not in cs"
   ]
  },
  {
   "cell_type": "code",
   "execution_count": 37,
   "id": "56bd9784",
   "metadata": {},
   "outputs": [
    {
     "data": {
      "text/plain": [
       "True"
      ]
     },
     "execution_count": 37,
     "metadata": {},
     "output_type": "execute_result"
    }
   ],
   "source": [
    "like = \"나는 콜라가 좋아!\"\n",
    "\"콜라\" in like"
   ]
  },
  {
   "cell_type": "code",
   "execution_count": 38,
   "id": "8bdd5e57",
   "metadata": {},
   "outputs": [],
   "source": [
    "import random"
   ]
  },
  {
   "cell_type": "code",
   "execution_count": 40,
   "id": "e0392a63",
   "metadata": {},
   "outputs": [
    {
     "data": {
      "text/plain": [
       "0.6276522554668857"
      ]
     },
     "execution_count": 40,
     "metadata": {},
     "output_type": "execute_result"
    }
   ],
   "source": [
    "random.random()"
   ]
  },
  {
   "cell_type": "code",
   "execution_count": 41,
   "id": "d63177c7",
   "metadata": {},
   "outputs": [
    {
     "data": {
      "text/plain": [
       "3"
      ]
     },
     "execution_count": 41,
     "metadata": {},
     "output_type": "execute_result"
    }
   ],
   "source": [
    "i = [1,2,3,4,5]\n",
    "random.choice(i)"
   ]
  },
  {
   "cell_type": "markdown",
   "id": "d0b66e7c",
   "metadata": {},
   "source": [
    "## 가위바위보 게임 만들기\n",
    "\n",
    "- 플레이어에게 가위,바위,보 중 하나를 입력하게 합니다.\n",
    "- 플레이어가 말을 안듣고, 가위,바위,보 중 어느것도 내지 않았을 때에는 \"잘못된 입력입니다.\"를 출력하세요\n",
    "- 컴퓨터는 동일한 확률로 가위,바위,보 중 하나를 냅니다.\n",
    "- 플레이어의 입력과 컴퓨터의 입력을 비교하여 승부를 결정합니다.\n",
    "- 출력문은 \"당신은 가위를 냈고, 컴퓨터는 보를 냈습니다. 당신이 이겼습니다.\"와 같은 형식으로 합니다. "
   ]
  },
  {
   "cell_type": "code",
   "execution_count": 48,
   "id": "855194ba",
   "metadata": {},
   "outputs": [
    {
     "name": "stdout",
     "output_type": "stream",
     "text": [
      "가위, 바위, 보 중 하나를 선택해주세요 : 가위\n",
      "당신은 가위를 냈고, 컴퓨터는 보를 냈습니다. 당신이 이겼습니다!\n"
     ]
    }
   ],
   "source": [
    "possible_choice = [\"가위\",\"바위\",\"보\"]\n",
    "player_choice = input(\"가위, 바위, 보 중 하나를 선택해주세요 : \")\n",
    "if player_choice not in possible_choice:\n",
    "    print(\"잘못된 입력입니다.\")\n",
    "else:\n",
    "    pass\n",
    "    computer_choice = random.choice(possible_choice)\n",
    "    if (player_choice == \"가위\"and computer_choice == \"보\") or (player_choice == \"바위\" and computer_choice == \"보\") or (player_choice == \"보\" and computer_choice == \"바위\"):\n",
    "        print(f\"당신은 {player_choice}를 냈고, 컴퓨터는 {computer_choice}를 냈습니다. 당신이 이겼습니다!\")\n",
    "    elif (player_choice == computer_choice):\n",
    "        print(f\"당신은 {player_choice}를 냈고, 컴퓨터는 {computer_choice}를 냈습니다. 비겼습니다.\")\n",
    "    else:\n",
    "        print(f\"당신은 {player_choice}를 냈고, 컴퓨터는 {computer_choice}를 냈습니다. 당신이 졌습니다.\")\n",
    "    "
   ]
  },
  {
   "cell_type": "markdown",
   "id": "c2db3670",
   "metadata": {},
   "source": [
    "### 아이템 강화 시스템\n",
    "\n",
    "- 플레이어로부터 아이템의 강화 등급을 입력받습니다(0 ~ 10).\n",
    "- 강화 성공률은 0등급일때 70%, 1등급일 때 65%... 1등급이 올라갈수록 5%씩 하락합니다.\n",
    "- 강화 실패 시 50% 확률로 아이템이 파괴됩니다.\n",
    "- 강화 성공 시 \"강화 성공\", 강화 실패 시 \"강화 실패\", 아이템 파괴 시 \"아이템 파괴\"를 출력해주세요"
   ]
  },
  {
   "cell_type": "code",
   "execution_count": 50,
   "id": "85e6ea8a",
   "metadata": {},
   "outputs": [
    {
     "name": "stdout",
     "output_type": "stream",
     "text": [
      "강화 등급을 입력하세요 : 2\n",
      "아이템 파괴\n"
     ]
    }
   ],
   "source": [
    "item = int(input(\"강화 등급을 입력하세요 : \"))\n",
    "prob1 = random.random()\n",
    "prob2 = random.random()\n",
    "if prob1 <= 0.7 - (0.05*item):\n",
    "    print(\"강화 성공\")\n",
    "else:\n",
    "    if prob2 <= 0.5:\n",
    "        print(\"강화 실패\")\n",
    "    else:\n",
    "        print(\"아이템 파괴\")"
   ]
  },
  {
   "cell_type": "code",
   "execution_count": null,
   "id": "fa15a82f",
   "metadata": {},
   "outputs": [],
   "source": []
  }
 ],
 "metadata": {
  "kernelspec": {
   "display_name": "Python 3 (ipykernel)",
   "language": "python",
   "name": "python3"
  },
  "language_info": {
   "codemirror_mode": {
    "name": "ipython",
    "version": 3
   },
   "file_extension": ".py",
   "mimetype": "text/x-python",
   "name": "python",
   "nbconvert_exporter": "python",
   "pygments_lexer": "ipython3",
   "version": "3.9.12"
  }
 },
 "nbformat": 4,
 "nbformat_minor": 5
}
