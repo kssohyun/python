{
 "cells": [
  {
   "cell_type": "markdown",
   "id": "55682ab1",
   "metadata": {},
   "source": [
    "if 나는 부자다:\n",
    "    택시를 타고 가자\n",
    "else: \n",
    "    버스를 타고 가자"
   ]
  },
  {
   "cell_type": "code",
   "execution_count": 4,
   "id": "cf49251b",
   "metadata": {},
   "outputs": [
    {
     "name": "stdout",
     "output_type": "stream",
     "text": [
      "내가 가진 돈 : 8000\n",
      "택시를 타고 가자\n",
      "우와 집이다!\n"
     ]
    }
   ],
   "source": [
    "money = int(input(\"내가 가진 돈 : \"))\n",
    "\n",
    "if money >= 4000:\n",
    "    print(\"택시를 타고 가자\")\n",
    "else:\n",
    "    print(\"버스를 타고 가자\")\n",
    "    \n",
    "print(\"우와 집이다!\")"
   ]
  },
  {
   "cell_type": "markdown",
   "id": "c7476519",
   "metadata": {},
   "source": [
    "- input 함수로 정수를 받습니다.\n",
    "- 만약 주어진 수가 3의 배수라면 \"3의 배수입니다.\"를 출력합니다.\n",
    "- 만약 주어진 수가 3의 배수가 아니라면  \"3의 배수가 아닙니다.\"를 출력합니다."
   ]
  },
  {
   "cell_type": "code",
   "execution_count": 5,
   "id": "217f7448",
   "metadata": {},
   "outputs": [
    {
     "name": "stdout",
     "output_type": "stream",
     "text": [
      "정수를 입력하세요 : 4\n",
      "3의 배수가 아닙니다.\n"
     ]
    }
   ],
   "source": [
    "num = int(input(\"정수를 입력하세요 : \"))\n",
    "\n",
    "if num%3 == 0:\n",
    "    print(\"3의 배수입니다\")\n",
    "else:\n",
    "    print(\"3의 배수가 아닙니다.\")"
   ]
  },
  {
   "cell_type": "code",
   "execution_count": 8,
   "id": "c713dfc1",
   "metadata": {},
   "outputs": [
    {
     "name": "stdout",
     "output_type": "stream",
     "text": [
      "내가 가진 돈 : 800\n",
      "걸어가자\n",
      "우와 집이다!\n"
     ]
    }
   ],
   "source": [
    "money = int(input(\"내가 가진 돈 : \"))\n",
    "\n",
    "if money >= 4000:\n",
    "    print(\"택시를 타고 가자\")\n",
    "elif money <= 1300:\n",
    "    print(\"걸어가자\")\n",
    "else:\n",
    "    print(\"버스를 타고 가자\")\n",
    "    \n",
    "print(\"우와 집이다!\")"
   ]
  },
  {
   "cell_type": "code",
   "execution_count": 9,
   "id": "f56fa26f",
   "metadata": {},
   "outputs": [
    {
     "name": "stdout",
     "output_type": "stream",
     "text": [
      "내가 가진 돈 : 150000\n",
      "리무진을 타고 가자\n",
      "우와 집이다!\n"
     ]
    }
   ],
   "source": [
    "money = int(input(\"내가 가진 돈 : \"))\n",
    "\n",
    "if money >= 4000 and money < 100000:\n",
    "    print(\"택시를 타고 가자\")\n",
    "elif money >= 1300 and money < 4000:\n",
    "    print(\"버스를 타고 가자\")\n",
    "elif money >= 100000:\n",
    "    print(\"리무진을 타고 가자\")\n",
    "else:\n",
    "    print(\"걸어가자\")\n",
    "\n",
    "print(\"우와 집이다!\")"
   ]
  },
  {
   "cell_type": "markdown",
   "id": "8b151773",
   "metadata": {},
   "source": [
    "## 추석 선물 세트 구매\n",
    "- 추석 선물 세트는 1개에 1만원입니다.\n",
    "- 추석 선물 세트를 11개 이상 사면, 11개째부터 10% 할인됩니다.\n",
    "- 추석 선물 세트를 몇개 샀는지 input함수로 받아, 총 얼마인지를 출력해주세요\n",
    " "
   ]
  },
  {
   "cell_type": "code",
   "execution_count": 19,
   "id": "1b92d999",
   "metadata": {},
   "outputs": [
    {
     "name": "stdout",
     "output_type": "stream",
     "text": [
      "추석 선물 세트 구매 개수 : 12\n",
      "118000\n"
     ]
    }
   ],
   "source": [
    "gift = int(input(\"추석 선물 세트 구매 개수 : \"))\n",
    "gift_price = 10000\n",
    "\n",
    "if gift >= 11:\n",
    "    price = ((gift-10)*gift_price)*0.9 + 10*10000\n",
    "else:\n",
    "    price = gift * gift_price\n",
    "print(int(price))"
   ]
  },
  {
   "cell_type": "code",
   "execution_count": null,
   "id": "4285a979",
   "metadata": {},
   "outputs": [],
   "source": []
  }
 ],
 "metadata": {
  "kernelspec": {
   "display_name": "Python 3 (ipykernel)",
   "language": "python",
   "name": "python3"
  },
  "language_info": {
   "codemirror_mode": {
    "name": "ipython",
    "version": 3
   },
   "file_extension": ".py",
   "mimetype": "text/x-python",
   "name": "python",
   "nbconvert_exporter": "python",
   "pygments_lexer": "ipython3",
   "version": "3.9.12"
  }
 },
 "nbformat": 4,
 "nbformat_minor": 5
}
